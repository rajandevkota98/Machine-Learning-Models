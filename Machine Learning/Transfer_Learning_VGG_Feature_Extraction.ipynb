{
  "nbformat": 4,
  "nbformat_minor": 0,
  "metadata": {
    "colab": {
      "provenance": [],
      "gpuType": "T4"
    },
    "kernelspec": {
      "name": "python3",
      "display_name": "Python 3"
    },
    "language_info": {
      "name": "python"
    },
    "accelerator": "GPU",
    "gpuClass": "standard"
  },
  "cells": [
    {
      "cell_type": "markdown",
      "source": [
        " # Transfer Learning VGG16 using Feature Extraction"
      ],
      "metadata": {
        "id": "ZvfHA2a94OP3"
      }
    },
    {
      "cell_type": "code",
      "execution_count": 2,
      "metadata": {
        "colab": {
          "base_uri": "https://localhost:8080/"
        },
        "id": "zj60xDKA33Sl",
        "outputId": "4ec1ed4c-817c-4797-ce61-160cc07cb995"
      },
      "outputs": [
        {
          "output_type": "stream",
          "name": "stdout",
          "text": [
            "Sun May 14 02:04:37 2023       \n",
            "+-----------------------------------------------------------------------------+\n",
            "| NVIDIA-SMI 525.85.12    Driver Version: 525.85.12    CUDA Version: 12.0     |\n",
            "|-------------------------------+----------------------+----------------------+\n",
            "| GPU  Name        Persistence-M| Bus-Id        Disp.A | Volatile Uncorr. ECC |\n",
            "| Fan  Temp  Perf  Pwr:Usage/Cap|         Memory-Usage | GPU-Util  Compute M. |\n",
            "|                               |                      |               MIG M. |\n",
            "|===============================+======================+======================|\n",
            "|   0  Tesla T4            Off  | 00000000:00:04.0 Off |                    0 |\n",
            "| N/A   69C    P8    13W /  70W |      0MiB / 15360MiB |      0%      Default |\n",
            "|                               |                      |                  N/A |\n",
            "+-------------------------------+----------------------+----------------------+\n",
            "                                                                               \n",
            "+-----------------------------------------------------------------------------+\n",
            "| Processes:                                                                  |\n",
            "|  GPU   GI   CI        PID   Type   Process name                  GPU Memory |\n",
            "|        ID   ID                                                   Usage      |\n",
            "|=============================================================================|\n",
            "|  No running processes found                                                 |\n",
            "+-----------------------------------------------------------------------------+\n"
          ]
        }
      ],
      "source": [
        "!nvidia-smi"
      ]
    },
    {
      "cell_type": "code",
      "source": [
        "import tensorflow as tf\n",
        "print(tf.__version__)"
      ],
      "metadata": {
        "colab": {
          "base_uri": "https://localhost:8080/"
        },
        "id": "8zsKPkgJ4OBh",
        "outputId": "2e13fec3-4d5d-4bd9-e47d-8c8ebc8e82c1"
      },
      "execution_count": 3,
      "outputs": [
        {
          "output_type": "stream",
          "name": "stdout",
          "text": [
            "2.12.0\n"
          ]
        }
      ]
    },
    {
      "cell_type": "markdown",
      "source": [
        "# Libraries"
      ],
      "metadata": {
        "id": "QsPs3oIg4tuP"
      }
    },
    {
      "cell_type": "code",
      "source": [
        "from tensorflow.keras.layers import Input, Lambda, Dense, Flatten\n",
        "from tensorflow.keras.models import Model, Sequential\n",
        "from tensorflow.keras.applications.vgg16 import VGG16\n",
        "from tensorflow.keras.applications.vgg19 import VGG19\n",
        "from tensorflow.keras.preprocessing import image\n",
        "from tensorflow.keras.preprocessing.image  import ImageDataGenerator, load_img\n",
        "import numpy as np\n",
        "from glob import glob"
      ],
      "metadata": {
        "id": "Lm-C3bsn4sRT"
      },
      "execution_count": 4,
      "outputs": []
    },
    {
      "cell_type": "code",
      "source": [
        "from google.colab import drive"
      ],
      "metadata": {
        "id": "rjY_ok6Q5k2p"
      },
      "execution_count": 5,
      "outputs": []
    },
    {
      "cell_type": "code",
      "source": [
        "drive.mount('/content/drive')"
      ],
      "metadata": {
        "colab": {
          "base_uri": "https://localhost:8080/"
        },
        "id": "OWPCnFsG50S4",
        "outputId": "a48bc255-8e3f-4f7a-977d-ac8b4a6b3c35"
      },
      "execution_count": 6,
      "outputs": [
        {
          "output_type": "stream",
          "name": "stdout",
          "text": [
            "Drive already mounted at /content/drive; to attempt to forcibly remount, call drive.mount(\"/content/drive\", force_remount=True).\n"
          ]
        }
      ]
    },
    {
      "cell_type": "code",
      "source": [
        "root_path = '/content/drive/MyDrive/flowers'"
      ],
      "metadata": {
        "id": "48DOQ5Mg577y"
      },
      "execution_count": 7,
      "outputs": []
    },
    {
      "cell_type": "code",
      "source": [
        "pwd"
      ],
      "metadata": {
        "colab": {
          "base_uri": "https://localhost:8080/",
          "height": 35
        },
        "id": "jYuq7fCL6NkJ",
        "outputId": "da5ea4fc-31d4-4206-d42e-d6b716bf7fd7"
      },
      "execution_count": 8,
      "outputs": [
        {
          "output_type": "execute_result",
          "data": {
            "text/plain": [
              "'/content'"
            ],
            "application/vnd.google.colaboratory.intrinsic+json": {
              "type": "string"
            }
          },
          "metadata": {},
          "execution_count": 8
        }
      ]
    },
    {
      "cell_type": "code",
      "source": [
        "import os"
      ],
      "metadata": {
        "id": "Qw2dG7m06PT_"
      },
      "execution_count": 9,
      "outputs": []
    },
    {
      "cell_type": "code",
      "source": [
        "os.chdir(root_path)"
      ],
      "metadata": {
        "id": "-TisHQH26R2_"
      },
      "execution_count": 10,
      "outputs": []
    },
    {
      "cell_type": "code",
      "source": [
        "pwd"
      ],
      "metadata": {
        "colab": {
          "base_uri": "https://localhost:8080/",
          "height": 35
        },
        "id": "DG2rMvo66TZN",
        "outputId": "5a47cf23-b081-4e0d-a50e-7bc6c040443b"
      },
      "execution_count": 11,
      "outputs": [
        {
          "output_type": "execute_result",
          "data": {
            "text/plain": [
              "'/content/drive/MyDrive/flowers'"
            ],
            "application/vnd.google.colaboratory.intrinsic+json": {
              "type": "string"
            }
          },
          "metadata": {},
          "execution_count": 11
        }
      ]
    },
    {
      "cell_type": "markdown",
      "source": [
        "Image Work"
      ],
      "metadata": {
        "id": "d0gRaqqW6bDQ"
      }
    },
    {
      "cell_type": "code",
      "source": [
        "image_size = [224,224]"
      ],
      "metadata": {
        "id": "4maGHpBZ6WpO"
      },
      "execution_count": 12,
      "outputs": []
    },
    {
      "cell_type": "code",
      "source": [
        "train_path = 'flowers/train'\n",
        "validation_path = 'flowers/validation'"
      ],
      "metadata": {
        "id": "v_PCwphM6i2V"
      },
      "execution_count": 13,
      "outputs": []
    },
    {
      "cell_type": "markdown",
      "source": [
        "# Importing  VGG16 "
      ],
      "metadata": {
        "id": "zD57ExJX6y7d"
      }
    },
    {
      "cell_type": "code",
      "source": [
        "vgg16 = tf.keras.applications.VGG16(\n",
        "    include_top=False,\n",
        "    weights=\"imagenet\",\n",
        "    input_tensor=None,\n",
        "    input_shape=image_size + [3],\n",
        "    pooling=None,\n",
        "    classes=1000,\n",
        "    classifier_activation=\"softmax\",\n",
        ")"
      ],
      "metadata": {
        "id": "jIcU1sLS6xgs"
      },
      "execution_count": 14,
      "outputs": []
    },
    {
      "cell_type": "code",
      "source": [
        "for layer in vgg16.layers:\n",
        "  print(layer)"
      ],
      "metadata": {
        "colab": {
          "base_uri": "https://localhost:8080/"
        },
        "id": "kkCQFmeV6wSU",
        "outputId": "be85ce44-efbe-4989-de93-72de4475635c"
      },
      "execution_count": 15,
      "outputs": [
        {
          "output_type": "stream",
          "name": "stdout",
          "text": [
            "<keras.engine.input_layer.InputLayer object at 0x7ffa2ef4a4a0>\n",
            "<keras.layers.convolutional.conv2d.Conv2D object at 0x7ffa2ef4abc0>\n",
            "<keras.layers.convolutional.conv2d.Conv2D object at 0x7ffa2ef4a950>\n",
            "<keras.layers.pooling.max_pooling2d.MaxPooling2D object at 0x7ffa2ed70c10>\n",
            "<keras.layers.convolutional.conv2d.Conv2D object at 0x7ffa2ef4bd30>\n",
            "<keras.layers.convolutional.conv2d.Conv2D object at 0x7ffa2ed723e0>\n",
            "<keras.layers.pooling.max_pooling2d.MaxPooling2D object at 0x7ffa2ed71960>\n",
            "<keras.layers.convolutional.conv2d.Conv2D object at 0x7ffa2ed73520>\n",
            "<keras.layers.convolutional.conv2d.Conv2D object at 0x7ffa2ed734c0>\n",
            "<keras.layers.convolutional.conv2d.Conv2D object at 0x7ffa2ed71b10>\n",
            "<keras.layers.pooling.max_pooling2d.MaxPooling2D object at 0x7ff9e80a59f0>\n",
            "<keras.layers.convolutional.conv2d.Conv2D object at 0x7ff9e80a6530>\n",
            "<keras.layers.convolutional.conv2d.Conv2D object at 0x7ff9e80a73d0>\n",
            "<keras.layers.convolutional.conv2d.Conv2D object at 0x7ff9e80a5b70>\n",
            "<keras.layers.pooling.max_pooling2d.MaxPooling2D object at 0x7ff9e80c0340>\n",
            "<keras.layers.convolutional.conv2d.Conv2D object at 0x7ff9e80a4940>\n",
            "<keras.layers.convolutional.conv2d.Conv2D object at 0x7ff9e80a4b80>\n",
            "<keras.layers.convolutional.conv2d.Conv2D object at 0x7ff9e80c2020>\n",
            "<keras.layers.pooling.max_pooling2d.MaxPooling2D object at 0x7ff9e80c30d0>\n"
          ]
        }
      ]
    },
    {
      "cell_type": "code",
      "source": [
        "# don't train existing weights\n",
        "for layer in vgg16.layers:\n",
        "    layer.trainable = False"
      ],
      "metadata": {
        "id": "I--0uhMG7cem"
      },
      "execution_count": 16,
      "outputs": []
    },
    {
      "cell_type": "code",
      "source": [
        "for layer in vgg16.layers:\n",
        "  print(layer.name,layer.trainable)"
      ],
      "metadata": {
        "colab": {
          "base_uri": "https://localhost:8080/"
        },
        "id": "42EmJ6Q27kxq",
        "outputId": "cbb7aa60-37ba-4466-b025-316bbf567e8f"
      },
      "execution_count": 17,
      "outputs": [
        {
          "output_type": "stream",
          "name": "stdout",
          "text": [
            "input_1 False\n",
            "block1_conv1 False\n",
            "block1_conv2 False\n",
            "block1_pool False\n",
            "block2_conv1 False\n",
            "block2_conv2 False\n",
            "block2_pool False\n",
            "block3_conv1 False\n",
            "block3_conv2 False\n",
            "block3_conv3 False\n",
            "block3_pool False\n",
            "block4_conv1 False\n",
            "block4_conv2 False\n",
            "block4_conv3 False\n",
            "block4_pool False\n",
            "block5_conv1 False\n",
            "block5_conv2 False\n",
            "block5_conv3 False\n",
            "block5_pool False\n"
          ]
        }
      ]
    },
    {
      "cell_type": "code",
      "source": [
        "vgg16.summary()"
      ],
      "metadata": {
        "colab": {
          "base_uri": "https://localhost:8080/"
        },
        "id": "xzmvezpt7nlh",
        "outputId": "4d33e98a-2417-42ad-8baf-aae5d97201e9"
      },
      "execution_count": 18,
      "outputs": [
        {
          "output_type": "stream",
          "name": "stdout",
          "text": [
            "Model: \"vgg16\"\n",
            "_________________________________________________________________\n",
            " Layer (type)                Output Shape              Param #   \n",
            "=================================================================\n",
            " input_1 (InputLayer)        [(None, 224, 224, 3)]     0         \n",
            "                                                                 \n",
            " block1_conv1 (Conv2D)       (None, 224, 224, 64)      1792      \n",
            "                                                                 \n",
            " block1_conv2 (Conv2D)       (None, 224, 224, 64)      36928     \n",
            "                                                                 \n",
            " block1_pool (MaxPooling2D)  (None, 112, 112, 64)      0         \n",
            "                                                                 \n",
            " block2_conv1 (Conv2D)       (None, 112, 112, 128)     73856     \n",
            "                                                                 \n",
            " block2_conv2 (Conv2D)       (None, 112, 112, 128)     147584    \n",
            "                                                                 \n",
            " block2_pool (MaxPooling2D)  (None, 56, 56, 128)       0         \n",
            "                                                                 \n",
            " block3_conv1 (Conv2D)       (None, 56, 56, 256)       295168    \n",
            "                                                                 \n",
            " block3_conv2 (Conv2D)       (None, 56, 56, 256)       590080    \n",
            "                                                                 \n",
            " block3_conv3 (Conv2D)       (None, 56, 56, 256)       590080    \n",
            "                                                                 \n",
            " block3_pool (MaxPooling2D)  (None, 28, 28, 256)       0         \n",
            "                                                                 \n",
            " block4_conv1 (Conv2D)       (None, 28, 28, 512)       1180160   \n",
            "                                                                 \n",
            " block4_conv2 (Conv2D)       (None, 28, 28, 512)       2359808   \n",
            "                                                                 \n",
            " block4_conv3 (Conv2D)       (None, 28, 28, 512)       2359808   \n",
            "                                                                 \n",
            " block4_pool (MaxPooling2D)  (None, 14, 14, 512)       0         \n",
            "                                                                 \n",
            " block5_conv1 (Conv2D)       (None, 14, 14, 512)       2359808   \n",
            "                                                                 \n",
            " block5_conv2 (Conv2D)       (None, 14, 14, 512)       2359808   \n",
            "                                                                 \n",
            " block5_conv3 (Conv2D)       (None, 14, 14, 512)       2359808   \n",
            "                                                                 \n",
            " block5_pool (MaxPooling2D)  (None, 7, 7, 512)         0         \n",
            "                                                                 \n",
            "=================================================================\n",
            "Total params: 14,714,688\n",
            "Trainable params: 0\n",
            "Non-trainable params: 14,714,688\n",
            "_________________________________________________________________\n"
          ]
        }
      ]
    },
    {
      "cell_type": "code",
      "source": [
        "from glob import glob"
      ],
      "metadata": {
        "id": "ODJ-TsfZ77QX"
      },
      "execution_count": 19,
      "outputs": []
    },
    {
      "cell_type": "code",
      "source": [
        "# Folder\n",
        "folders = glob('*')"
      ],
      "metadata": {
        "id": "lR7Kpbo77pY7"
      },
      "execution_count": 20,
      "outputs": []
    },
    {
      "cell_type": "code",
      "source": [
        "folders"
      ],
      "metadata": {
        "colab": {
          "base_uri": "https://localhost:8080/"
        },
        "id": "wTjTZUq77xex",
        "outputId": "ee11ca8f-60b7-43ca-cf2c-5dd1d4bac7f4"
      },
      "execution_count": 21,
      "outputs": [
        {
          "output_type": "execute_result",
          "data": {
            "text/plain": [
              "['validation', 'train']"
            ]
          },
          "metadata": {},
          "execution_count": 21
        }
      ]
    },
    {
      "cell_type": "code",
      "source": [
        "class_types = glob('train/*')"
      ],
      "metadata": {
        "id": "tDYDl_6f7zoO"
      },
      "execution_count": 22,
      "outputs": []
    },
    {
      "cell_type": "code",
      "source": [
        "class_types"
      ],
      "metadata": {
        "colab": {
          "base_uri": "https://localhost:8080/"
        },
        "id": "9gQXAViv8ESC",
        "outputId": "e345337a-b193-42d8-f9d2-1380215c21a3"
      },
      "execution_count": 23,
      "outputs": [
        {
          "output_type": "execute_result",
          "data": {
            "text/plain": [
              "['train/tulip',\n",
              " 'train/dandelion',\n",
              " 'train/daisy',\n",
              " 'train/rose',\n",
              " 'train/sunflower']"
            ]
          },
          "metadata": {},
          "execution_count": 23
        }
      ]
    },
    {
      "cell_type": "code",
      "source": [
        "len(class_types)"
      ],
      "metadata": {
        "colab": {
          "base_uri": "https://localhost:8080/"
        },
        "id": "0c9kLhkf8OLM",
        "outputId": "f5cac187-e343-4237-ba5a-18dd9754fcc7"
      },
      "execution_count": 24,
      "outputs": [
        {
          "output_type": "execute_result",
          "data": {
            "text/plain": [
              "5"
            ]
          },
          "metadata": {},
          "execution_count": 24
        }
      ]
    },
    {
      "cell_type": "code",
      "source": [
        "model = Sequential()"
      ],
      "metadata": {
        "id": "SnV35TWQ8Vdq"
      },
      "execution_count": 25,
      "outputs": []
    },
    {
      "cell_type": "code",
      "source": [
        "model.add(vgg16)\n",
        "model.add(Flatten())"
      ],
      "metadata": {
        "id": "0vpknX558YgW"
      },
      "execution_count": 26,
      "outputs": []
    },
    {
      "cell_type": "code",
      "source": [
        "model.add(Dense(units = 64, activation = 'relu'))"
      ],
      "metadata": {
        "id": "bRE7hpQx8cTD"
      },
      "execution_count": 27,
      "outputs": []
    },
    {
      "cell_type": "code",
      "source": [
        "model.add(Dense(units = 112, activation = 'relu'))"
      ],
      "metadata": {
        "id": "FFVp5_-l8jKQ"
      },
      "execution_count": 28,
      "outputs": []
    },
    {
      "cell_type": "code",
      "source": [
        "model.add(Dense(units = 256, activation = 'relu'))"
      ],
      "metadata": {
        "id": "k31npIB78opB"
      },
      "execution_count": 29,
      "outputs": []
    },
    {
      "cell_type": "code",
      "source": [
        "model.add(Dense(units = len(class_types), activation = 'softmax'))"
      ],
      "metadata": {
        "id": "3b0pDsU_8skm"
      },
      "execution_count": 30,
      "outputs": []
    },
    {
      "cell_type": "code",
      "source": [
        "model.summary()"
      ],
      "metadata": {
        "colab": {
          "base_uri": "https://localhost:8080/"
        },
        "id": "oKMkoono820j",
        "outputId": "b16a97c4-1787-44c1-b629-4d638c35ed75"
      },
      "execution_count": 31,
      "outputs": [
        {
          "output_type": "stream",
          "name": "stdout",
          "text": [
            "Model: \"sequential\"\n",
            "_________________________________________________________________\n",
            " Layer (type)                Output Shape              Param #   \n",
            "=================================================================\n",
            " vgg16 (Functional)          (None, 7, 7, 512)         14714688  \n",
            "                                                                 \n",
            " flatten (Flatten)           (None, 25088)             0         \n",
            "                                                                 \n",
            " dense (Dense)               (None, 64)                1605696   \n",
            "                                                                 \n",
            " dense_1 (Dense)             (None, 112)               7280      \n",
            "                                                                 \n",
            " dense_2 (Dense)             (None, 256)               28928     \n",
            "                                                                 \n",
            " dense_3 (Dense)             (None, 5)                 1285      \n",
            "                                                                 \n",
            "=================================================================\n",
            "Total params: 16,357,877\n",
            "Trainable params: 1,643,189\n",
            "Non-trainable params: 14,714,688\n",
            "_________________________________________________________________\n"
          ]
        }
      ]
    },
    {
      "cell_type": "code",
      "source": [
        "model.compile(optimizer = 'adam', loss = 'categorical_crossentropy', metrics = ['accuracy'])"
      ],
      "metadata": {
        "id": "qm3RJ6GS85Rr"
      },
      "execution_count": 32,
      "outputs": []
    },
    {
      "cell_type": "code",
      "source": [
        "train_datagen = ImageDataGenerator(rescale = 1./225, shear_range = 0.2, zoom_range = 0.2, horizontal_flip = True)\n",
        "\n",
        "\n",
        "test_data = ImageDataGenerator(rescale = 1./255)\n"
      ],
      "metadata": {
        "id": "l6yBS1TV9Pcx"
      },
      "execution_count": 33,
      "outputs": []
    },
    {
      "cell_type": "code",
      "source": [
        "!pwd"
      ],
      "metadata": {
        "colab": {
          "base_uri": "https://localhost:8080/"
        },
        "id": "1bVfjgND92ME",
        "outputId": "44db510d-44df-4013-d5b9-3e93349c2f68"
      },
      "execution_count": 34,
      "outputs": [
        {
          "output_type": "stream",
          "name": "stdout",
          "text": [
            "/content/drive/MyDrive/flowers\n"
          ]
        }
      ]
    },
    {
      "cell_type": "code",
      "source": [
        "training_set = train_datagen.flow_from_directory('train',\n",
        "                                                 target_size = (224, 224),\n",
        "                                                 batch_size = 256,\n",
        "                                                 class_mode = 'categorical')"
      ],
      "metadata": {
        "colab": {
          "base_uri": "https://localhost:8080/"
        },
        "id": "SjgXmClE9w9C",
        "outputId": "63b4f6f6-1864-4f5f-a2ee-fd732eb3ecff"
      },
      "execution_count": 41,
      "outputs": [
        {
          "output_type": "stream",
          "name": "stdout",
          "text": [
            "Found 600 images belonging to 5 classes.\n"
          ]
        }
      ]
    },
    {
      "cell_type": "code",
      "source": [
        "test_set = test_data.flow_from_directory('validation',\n",
        "                                            target_size = (224, 224),\n",
        "                                            batch_size = 256,\n",
        "                                            class_mode = 'categorical')"
      ],
      "metadata": {
        "colab": {
          "base_uri": "https://localhost:8080/"
        },
        "id": "-LQF4ATl9_oT",
        "outputId": "184116e6-f016-4422-976f-02001d966d6c"
      },
      "execution_count": 42,
      "outputs": [
        {
          "output_type": "stream",
          "name": "stdout",
          "text": [
            "Found 300 images belonging to 5 classes.\n"
          ]
        }
      ]
    },
    {
      "cell_type": "code",
      "source": [
        "len(training_set)"
      ],
      "metadata": {
        "colab": {
          "base_uri": "https://localhost:8080/"
        },
        "id": "m295ZBM8AOjN",
        "outputId": "180082b5-cf57-48ca-a8f9-6461cd3945b3"
      },
      "execution_count": 43,
      "outputs": [
        {
          "output_type": "execute_result",
          "data": {
            "text/plain": [
              "3"
            ]
          },
          "metadata": {},
          "execution_count": 43
        }
      ]
    },
    {
      "cell_type": "code",
      "source": [
        "len(test_set)"
      ],
      "metadata": {
        "colab": {
          "base_uri": "https://localhost:8080/"
        },
        "id": "sJ-ON2-AAOqA",
        "outputId": "274915eb-e1c0-4d22-96ac-3f7c7b145e41"
      },
      "execution_count": 44,
      "outputs": [
        {
          "output_type": "execute_result",
          "data": {
            "text/plain": [
              "2"
            ]
          },
          "metadata": {},
          "execution_count": 44
        }
      ]
    },
    {
      "cell_type": "code",
      "source": [
        "history = model.fit(training_set, validation_data = test_set, epochs = 20, validation_steps=len(test_set),steps_per_epoch=len(training_set))"
      ],
      "metadata": {
        "colab": {
          "base_uri": "https://localhost:8080/"
        },
        "id": "9Fw9FxcA-L7w",
        "outputId": "049f41c3-e681-4342-ee97-9dfa54bfc5cc"
      },
      "execution_count": 45,
      "outputs": [
        {
          "output_type": "stream",
          "name": "stdout",
          "text": [
            "Epoch 1/20\n",
            "3/3 [==============================] - 372s 130s/step - loss: 1.6151 - accuracy: 0.2167 - val_loss: 1.4558 - val_accuracy: 0.3033\n",
            "Epoch 2/20\n",
            "3/3 [==============================] - 13s 4s/step - loss: 1.3506 - accuracy: 0.4233 - val_loss: 1.2049 - val_accuracy: 0.6333\n",
            "Epoch 3/20\n",
            "3/3 [==============================] - 16s 5s/step - loss: 1.0913 - accuracy: 0.6283 - val_loss: 1.0548 - val_accuracy: 0.5700\n",
            "Epoch 4/20\n",
            "3/3 [==============================] - 14s 6s/step - loss: 0.8705 - accuracy: 0.6817 - val_loss: 0.9142 - val_accuracy: 0.6933\n",
            "Epoch 5/20\n",
            "3/3 [==============================] - 16s 7s/step - loss: 0.6913 - accuracy: 0.7533 - val_loss: 0.8674 - val_accuracy: 0.6967\n",
            "Epoch 6/20\n",
            "3/3 [==============================] - 12s 4s/step - loss: 0.5971 - accuracy: 0.7867 - val_loss: 0.8048 - val_accuracy: 0.7300\n",
            "Epoch 7/20\n",
            "3/3 [==============================] - 13s 4s/step - loss: 0.4943 - accuracy: 0.8233 - val_loss: 0.9395 - val_accuracy: 0.7133\n",
            "Epoch 8/20\n",
            "3/3 [==============================] - 14s 6s/step - loss: 0.4988 - accuracy: 0.8067 - val_loss: 0.8590 - val_accuracy: 0.7267\n",
            "Epoch 9/20\n",
            "3/3 [==============================] - 12s 4s/step - loss: 0.4636 - accuracy: 0.8217 - val_loss: 1.0797 - val_accuracy: 0.6933\n",
            "Epoch 10/20\n",
            "3/3 [==============================] - 12s 4s/step - loss: 0.4361 - accuracy: 0.8483 - val_loss: 0.8318 - val_accuracy: 0.7500\n",
            "Epoch 11/20\n",
            "3/3 [==============================] - 13s 4s/step - loss: 0.3151 - accuracy: 0.8833 - val_loss: 0.8857 - val_accuracy: 0.7600\n",
            "Epoch 12/20\n",
            "3/3 [==============================] - 13s 6s/step - loss: 0.2624 - accuracy: 0.9183 - val_loss: 0.8782 - val_accuracy: 0.7500\n",
            "Epoch 13/20\n",
            "3/3 [==============================] - 12s 4s/step - loss: 0.2181 - accuracy: 0.9367 - val_loss: 0.8567 - val_accuracy: 0.7733\n",
            "Epoch 14/20\n",
            "3/3 [==============================] - 12s 5s/step - loss: 0.1840 - accuracy: 0.9450 - val_loss: 0.8520 - val_accuracy: 0.7433\n",
            "Epoch 15/20\n",
            "3/3 [==============================] - 13s 4s/step - loss: 0.1569 - accuracy: 0.9550 - val_loss: 0.7759 - val_accuracy: 0.7867\n",
            "Epoch 16/20\n",
            "3/3 [==============================] - 13s 4s/step - loss: 0.1332 - accuracy: 0.9650 - val_loss: 0.8829 - val_accuracy: 0.7667\n",
            "Epoch 17/20\n",
            "3/3 [==============================] - 13s 4s/step - loss: 0.1035 - accuracy: 0.9733 - val_loss: 0.8237 - val_accuracy: 0.7733\n",
            "Epoch 18/20\n",
            "3/3 [==============================] - 13s 6s/step - loss: 0.0936 - accuracy: 0.9767 - val_loss: 0.8621 - val_accuracy: 0.7733\n",
            "Epoch 19/20\n",
            "3/3 [==============================] - 13s 4s/step - loss: 0.0750 - accuracy: 0.9867 - val_loss: 0.8608 - val_accuracy: 0.7867\n",
            "Epoch 20/20\n",
            "3/3 [==============================] - 14s 5s/step - loss: 0.0725 - accuracy: 0.9817 - val_loss: 0.8751 - val_accuracy: 0.7733\n"
          ]
        }
      ]
    },
    {
      "cell_type": "code",
      "source": [
        "import pandas as pd\n",
        "pd.DataFrame(history.history)"
      ],
      "metadata": {
        "colab": {
          "base_uri": "https://localhost:8080/",
          "height": 677
        },
        "id": "3YPSi-9l_Ni-",
        "outputId": "c85ed1fe-6ba4-4104-b18a-a5fd77d2eade"
      },
      "execution_count": 47,
      "outputs": [
        {
          "output_type": "execute_result",
          "data": {
            "text/plain": [
              "        loss  accuracy  val_loss  val_accuracy\n",
              "0   1.615052  0.216667  1.455811      0.303333\n",
              "1   1.350649  0.423333  1.204915      0.633333\n",
              "2   1.091333  0.628333  1.054816      0.570000\n",
              "3   0.870451  0.681667  0.914250      0.693333\n",
              "4   0.691292  0.753333  0.867398      0.696667\n",
              "5   0.597124  0.786667  0.804784      0.730000\n",
              "6   0.494291  0.823333  0.939507      0.713333\n",
              "7   0.498794  0.806667  0.858972      0.726667\n",
              "8   0.463611  0.821667  1.079659      0.693333\n",
              "9   0.436137  0.848333  0.831850      0.750000\n",
              "10  0.315102  0.883333  0.885653      0.760000\n",
              "11  0.262368  0.918333  0.878169      0.750000\n",
              "12  0.218051  0.936667  0.856716      0.773333\n",
              "13  0.183978  0.945000  0.851955      0.743333\n",
              "14  0.156919  0.955000  0.775950      0.786667\n",
              "15  0.133179  0.965000  0.882886      0.766667\n",
              "16  0.103490  0.973333  0.823676      0.773333\n",
              "17  0.093569  0.976667  0.862091      0.773333\n",
              "18  0.074976  0.986667  0.860768      0.786667\n",
              "19  0.072498  0.981667  0.875143      0.773333"
            ],
            "text/html": [
              "\n",
              "  <div id=\"df-c9eddaa1-7f80-43ba-b958-0b9369b75b92\">\n",
              "    <div class=\"colab-df-container\">\n",
              "      <div>\n",
              "<style scoped>\n",
              "    .dataframe tbody tr th:only-of-type {\n",
              "        vertical-align: middle;\n",
              "    }\n",
              "\n",
              "    .dataframe tbody tr th {\n",
              "        vertical-align: top;\n",
              "    }\n",
              "\n",
              "    .dataframe thead th {\n",
              "        text-align: right;\n",
              "    }\n",
              "</style>\n",
              "<table border=\"1\" class=\"dataframe\">\n",
              "  <thead>\n",
              "    <tr style=\"text-align: right;\">\n",
              "      <th></th>\n",
              "      <th>loss</th>\n",
              "      <th>accuracy</th>\n",
              "      <th>val_loss</th>\n",
              "      <th>val_accuracy</th>\n",
              "    </tr>\n",
              "  </thead>\n",
              "  <tbody>\n",
              "    <tr>\n",
              "      <th>0</th>\n",
              "      <td>1.615052</td>\n",
              "      <td>0.216667</td>\n",
              "      <td>1.455811</td>\n",
              "      <td>0.303333</td>\n",
              "    </tr>\n",
              "    <tr>\n",
              "      <th>1</th>\n",
              "      <td>1.350649</td>\n",
              "      <td>0.423333</td>\n",
              "      <td>1.204915</td>\n",
              "      <td>0.633333</td>\n",
              "    </tr>\n",
              "    <tr>\n",
              "      <th>2</th>\n",
              "      <td>1.091333</td>\n",
              "      <td>0.628333</td>\n",
              "      <td>1.054816</td>\n",
              "      <td>0.570000</td>\n",
              "    </tr>\n",
              "    <tr>\n",
              "      <th>3</th>\n",
              "      <td>0.870451</td>\n",
              "      <td>0.681667</td>\n",
              "      <td>0.914250</td>\n",
              "      <td>0.693333</td>\n",
              "    </tr>\n",
              "    <tr>\n",
              "      <th>4</th>\n",
              "      <td>0.691292</td>\n",
              "      <td>0.753333</td>\n",
              "      <td>0.867398</td>\n",
              "      <td>0.696667</td>\n",
              "    </tr>\n",
              "    <tr>\n",
              "      <th>5</th>\n",
              "      <td>0.597124</td>\n",
              "      <td>0.786667</td>\n",
              "      <td>0.804784</td>\n",
              "      <td>0.730000</td>\n",
              "    </tr>\n",
              "    <tr>\n",
              "      <th>6</th>\n",
              "      <td>0.494291</td>\n",
              "      <td>0.823333</td>\n",
              "      <td>0.939507</td>\n",
              "      <td>0.713333</td>\n",
              "    </tr>\n",
              "    <tr>\n",
              "      <th>7</th>\n",
              "      <td>0.498794</td>\n",
              "      <td>0.806667</td>\n",
              "      <td>0.858972</td>\n",
              "      <td>0.726667</td>\n",
              "    </tr>\n",
              "    <tr>\n",
              "      <th>8</th>\n",
              "      <td>0.463611</td>\n",
              "      <td>0.821667</td>\n",
              "      <td>1.079659</td>\n",
              "      <td>0.693333</td>\n",
              "    </tr>\n",
              "    <tr>\n",
              "      <th>9</th>\n",
              "      <td>0.436137</td>\n",
              "      <td>0.848333</td>\n",
              "      <td>0.831850</td>\n",
              "      <td>0.750000</td>\n",
              "    </tr>\n",
              "    <tr>\n",
              "      <th>10</th>\n",
              "      <td>0.315102</td>\n",
              "      <td>0.883333</td>\n",
              "      <td>0.885653</td>\n",
              "      <td>0.760000</td>\n",
              "    </tr>\n",
              "    <tr>\n",
              "      <th>11</th>\n",
              "      <td>0.262368</td>\n",
              "      <td>0.918333</td>\n",
              "      <td>0.878169</td>\n",
              "      <td>0.750000</td>\n",
              "    </tr>\n",
              "    <tr>\n",
              "      <th>12</th>\n",
              "      <td>0.218051</td>\n",
              "      <td>0.936667</td>\n",
              "      <td>0.856716</td>\n",
              "      <td>0.773333</td>\n",
              "    </tr>\n",
              "    <tr>\n",
              "      <th>13</th>\n",
              "      <td>0.183978</td>\n",
              "      <td>0.945000</td>\n",
              "      <td>0.851955</td>\n",
              "      <td>0.743333</td>\n",
              "    </tr>\n",
              "    <tr>\n",
              "      <th>14</th>\n",
              "      <td>0.156919</td>\n",
              "      <td>0.955000</td>\n",
              "      <td>0.775950</td>\n",
              "      <td>0.786667</td>\n",
              "    </tr>\n",
              "    <tr>\n",
              "      <th>15</th>\n",
              "      <td>0.133179</td>\n",
              "      <td>0.965000</td>\n",
              "      <td>0.882886</td>\n",
              "      <td>0.766667</td>\n",
              "    </tr>\n",
              "    <tr>\n",
              "      <th>16</th>\n",
              "      <td>0.103490</td>\n",
              "      <td>0.973333</td>\n",
              "      <td>0.823676</td>\n",
              "      <td>0.773333</td>\n",
              "    </tr>\n",
              "    <tr>\n",
              "      <th>17</th>\n",
              "      <td>0.093569</td>\n",
              "      <td>0.976667</td>\n",
              "      <td>0.862091</td>\n",
              "      <td>0.773333</td>\n",
              "    </tr>\n",
              "    <tr>\n",
              "      <th>18</th>\n",
              "      <td>0.074976</td>\n",
              "      <td>0.986667</td>\n",
              "      <td>0.860768</td>\n",
              "      <td>0.786667</td>\n",
              "    </tr>\n",
              "    <tr>\n",
              "      <th>19</th>\n",
              "      <td>0.072498</td>\n",
              "      <td>0.981667</td>\n",
              "      <td>0.875143</td>\n",
              "      <td>0.773333</td>\n",
              "    </tr>\n",
              "  </tbody>\n",
              "</table>\n",
              "</div>\n",
              "      <button class=\"colab-df-convert\" onclick=\"convertToInteractive('df-c9eddaa1-7f80-43ba-b958-0b9369b75b92')\"\n",
              "              title=\"Convert this dataframe to an interactive table.\"\n",
              "              style=\"display:none;\">\n",
              "        \n",
              "  <svg xmlns=\"http://www.w3.org/2000/svg\" height=\"24px\"viewBox=\"0 0 24 24\"\n",
              "       width=\"24px\">\n",
              "    <path d=\"M0 0h24v24H0V0z\" fill=\"none\"/>\n",
              "    <path d=\"M18.56 5.44l.94 2.06.94-2.06 2.06-.94-2.06-.94-.94-2.06-.94 2.06-2.06.94zm-11 1L8.5 8.5l.94-2.06 2.06-.94-2.06-.94L8.5 2.5l-.94 2.06-2.06.94zm10 10l.94 2.06.94-2.06 2.06-.94-2.06-.94-.94-2.06-.94 2.06-2.06.94z\"/><path d=\"M17.41 7.96l-1.37-1.37c-.4-.4-.92-.59-1.43-.59-.52 0-1.04.2-1.43.59L10.3 9.45l-7.72 7.72c-.78.78-.78 2.05 0 2.83L4 21.41c.39.39.9.59 1.41.59.51 0 1.02-.2 1.41-.59l7.78-7.78 2.81-2.81c.8-.78.8-2.07 0-2.86zM5.41 20L4 18.59l7.72-7.72 1.47 1.35L5.41 20z\"/>\n",
              "  </svg>\n",
              "      </button>\n",
              "      \n",
              "  <style>\n",
              "    .colab-df-container {\n",
              "      display:flex;\n",
              "      flex-wrap:wrap;\n",
              "      gap: 12px;\n",
              "    }\n",
              "\n",
              "    .colab-df-convert {\n",
              "      background-color: #E8F0FE;\n",
              "      border: none;\n",
              "      border-radius: 50%;\n",
              "      cursor: pointer;\n",
              "      display: none;\n",
              "      fill: #1967D2;\n",
              "      height: 32px;\n",
              "      padding: 0 0 0 0;\n",
              "      width: 32px;\n",
              "    }\n",
              "\n",
              "    .colab-df-convert:hover {\n",
              "      background-color: #E2EBFA;\n",
              "      box-shadow: 0px 1px 2px rgba(60, 64, 67, 0.3), 0px 1px 3px 1px rgba(60, 64, 67, 0.15);\n",
              "      fill: #174EA6;\n",
              "    }\n",
              "\n",
              "    [theme=dark] .colab-df-convert {\n",
              "      background-color: #3B4455;\n",
              "      fill: #D2E3FC;\n",
              "    }\n",
              "\n",
              "    [theme=dark] .colab-df-convert:hover {\n",
              "      background-color: #434B5C;\n",
              "      box-shadow: 0px 1px 3px 1px rgba(0, 0, 0, 0.15);\n",
              "      filter: drop-shadow(0px 1px 2px rgba(0, 0, 0, 0.3));\n",
              "      fill: #FFFFFF;\n",
              "    }\n",
              "  </style>\n",
              "\n",
              "      <script>\n",
              "        const buttonEl =\n",
              "          document.querySelector('#df-c9eddaa1-7f80-43ba-b958-0b9369b75b92 button.colab-df-convert');\n",
              "        buttonEl.style.display =\n",
              "          google.colab.kernel.accessAllowed ? 'block' : 'none';\n",
              "\n",
              "        async function convertToInteractive(key) {\n",
              "          const element = document.querySelector('#df-c9eddaa1-7f80-43ba-b958-0b9369b75b92');\n",
              "          const dataTable =\n",
              "            await google.colab.kernel.invokeFunction('convertToInteractive',\n",
              "                                                     [key], {});\n",
              "          if (!dataTable) return;\n",
              "\n",
              "          const docLinkHtml = 'Like what you see? Visit the ' +\n",
              "            '<a target=\"_blank\" href=https://colab.research.google.com/notebooks/data_table.ipynb>data table notebook</a>'\n",
              "            + ' to learn more about interactive tables.';\n",
              "          element.innerHTML = '';\n",
              "          dataTable['output_type'] = 'display_data';\n",
              "          await google.colab.output.renderOutput(dataTable, element);\n",
              "          const docLink = document.createElement('div');\n",
              "          docLink.innerHTML = docLinkHtml;\n",
              "          element.appendChild(docLink);\n",
              "        }\n",
              "      </script>\n",
              "    </div>\n",
              "  </div>\n",
              "  "
            ]
          },
          "metadata": {},
          "execution_count": 47
        }
      ]
    },
    {
      "cell_type": "code",
      "source": [
        "# plot the loss\n",
        "import matplotlib.pyplot as plt\n",
        "plt.plot(history.history['loss'], label='train loss')\n",
        "plt.plot(history.history['val_loss'], label='val loss')\n",
        "plt.legend()\n",
        "plt.show()\n",
        "plt.savefig('LossVal_loss')"
      ],
      "metadata": {
        "colab": {
          "base_uri": "https://localhost:8080/",
          "height": 447
        },
        "id": "7NVQecCnD4M3",
        "outputId": "5b6dbb88-0fb2-4153-b288-a5e97c0df550"
      },
      "execution_count": 50,
      "outputs": [
        {
          "output_type": "display_data",
          "data": {
            "text/plain": [
              "<Figure size 640x480 with 1 Axes>"
            ],
            "image/png": "[encoded data removed]"
          },
          "metadata": {}
        },
        {
          "output_type": "display_data",
          "data": {
            "text/plain": [
              "<Figure size 640x480 with 0 Axes>"
            ]
          },
          "metadata": {}
        }
      ]
    },
    {
      "cell_type": "code",
      "source": [
        "# plot the accuracy\n",
        "plt.plot(history.history['accuracy'], label='train acc')\n",
        "plt.plot(history.history['val_accuracy'], label='val acc')\n",
        "plt.legend()\n",
        "plt.show()\n",
        "plt.savefig('AccVal_acc')"
      ],
      "metadata": {
        "colab": {
          "base_uri": "https://localhost:8080/",
          "height": 447
        },
        "id": "7LHi0-YUEEs0",
        "outputId": "9cd960ba-e5a2-4ade-ffea-37884144cd5b"
      },
      "execution_count": 51,
      "outputs": [
        {
          "output_type": "display_data",
          "data": {
            "text/plain": [
              "<Figure size 640x480 with 1 Axes>"
            ],
            "image/png": "[encoded data removed]"
          },
          "metadata": {}
        },
        {
          "output_type": "display_data",
          "data": {
            "text/plain": [
              "<Figure size 640x480 with 0 Axes>"
            ]
          },
          "metadata": {}
        }
      ]
    },
    {
      "cell_type": "code",
      "source": [
        "img=image.load_img('/content/download.jpeg',target_size=(224,224))"
      ],
      "metadata": {
        "id": "XuyXhu5REVjJ"
      },
      "execution_count": 53,
      "outputs": []
    },
    {
      "cell_type": "code",
      "source": [
        "x=image.img_to_array(img)\n"
      ],
      "metadata": {
        "id": "6SEt1QLNFV5e"
      },
      "execution_count": 57,
      "outputs": []
    },
    {
      "cell_type": "code",
      "source": [
        "x = x/255"
      ],
      "metadata": {
        "id": "vu7mTe9yFg6v"
      },
      "execution_count": 58,
      "outputs": []
    },
    {
      "cell_type": "code",
      "source": [
        "x.shape"
      ],
      "metadata": {
        "colab": {
          "base_uri": "https://localhost:8080/"
        },
        "id": "XHFTSJAMFm6g",
        "outputId": "7f289e5a-b6b8-40c8-a858-097c000cd6fd"
      },
      "execution_count": 59,
      "outputs": [
        {
          "output_type": "execute_result",
          "data": {
            "text/plain": [
              "(224, 224, 3)"
            ]
          },
          "metadata": {},
          "execution_count": 59
        }
      ]
    },
    {
      "cell_type": "code",
      "source": [
        "x = np.expand_dims(x,axis = 0)"
      ],
      "metadata": {
        "id": "1tXIwMjJFoeF"
      },
      "execution_count": 60,
      "outputs": []
    },
    {
      "cell_type": "code",
      "source": [
        "x.shape"
      ],
      "metadata": {
        "colab": {
          "base_uri": "https://localhost:8080/"
        },
        "id": "fAYzxNTlFyAN",
        "outputId": "687c5d0d-0274-4e59-ef7a-4147d255a373"
      },
      "execution_count": 61,
      "outputs": [
        {
          "output_type": "execute_result",
          "data": {
            "text/plain": [
              "(1, 224, 224, 3)"
            ]
          },
          "metadata": {},
          "execution_count": 61
        }
      ]
    },
    {
      "cell_type": "code",
      "source": [
        "model.predict(x)"
      ],
      "metadata": {
        "colab": {
          "base_uri": "https://localhost:8080/"
        },
        "id": "a5Sp42e4F0En",
        "outputId": "b09688ca-0405-487d-f864-4f0235f600c8"
      },
      "execution_count": 62,
      "outputs": [
        {
          "output_type": "stream",
          "name": "stdout",
          "text": [
            "1/1 [==============================] - 1s 758ms/step\n"
          ]
        },
        {
          "output_type": "execute_result",
          "data": {
            "text/plain": [
              "array([[5.7566074e-05, 2.8316806e-06, 6.5196544e-04, 9.7076023e-05,\n",
              "        9.9919051e-01]], dtype=float32)"
            ]
          },
          "metadata": {},
          "execution_count": 62
        }
      ]
    }
  ]
}