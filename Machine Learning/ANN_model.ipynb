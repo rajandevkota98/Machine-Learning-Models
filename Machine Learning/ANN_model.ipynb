{
  "nbformat": 4,
  "nbformat_minor": 0,
  "metadata": {
    "colab": {
      "provenance": []
    },
    "kernelspec": {
      "name": "python3",
      "display_name": "Python 3"
    },
    "language_info": {
      "name": "python"
    },
    "accelerator": "GPU",
    "gpuClass": "standard"
  },
  "cells": [
    {
      "cell_type": "code",
      "execution_count": null,
      "metadata": {
        "id": "4ACrL4qFXo7T"
      },
      "outputs": [],
      "source": [
        "import tensorflow as tf"
      ]
    },
    {
      "cell_type": "code",
      "source": [
        "import pandas as pd"
      ],
      "metadata": {
        "id": "JewBGU73XuMx"
      },
      "execution_count": null,
      "outputs": []
    },
    {
      "cell_type": "code",
      "source": [
        "data = pd.read_csv(\"https://raw.githubusercontent.com/sunnysavita10/deep-learning/main/aps_data.csv\")"
      ],
      "metadata": {
        "colab": {
          "base_uri": "https://localhost:8080/"
        },
        "id": "8DLW92zCYSds",
        "outputId": "354d9c32-d8fe-496c-ca18-5dc7df1dd789"
      },
      "execution_count": null,
      "outputs": [
        {
          "output_type": "stream",
          "name": "stderr",
          "text": [
            "/usr/local/lib/python3.8/dist-packages/IPython/core/interactiveshell.py:3326: DtypeWarning: Columns (81) have mixed types.Specify dtype option on import or set low_memory=False.\n",
            "  exec(code_obj, self.user_global_ns, self.user_ns)\n"
          ]
        }
      ]
    },
    {
      "cell_type": "code",
      "source": [
        "data.head()\n"
      ],
      "metadata": {
        "colab": {
          "base_uri": "https://localhost:8080/",
          "height": 299
        },
        "id": "Qya7KyZPYU5O",
        "outputId": "0c55c224-ec08-4d81-d439-ce6d4ae3e75d"
      },
      "execution_count": null,
      "outputs": [
        {
          "output_type": "execute_result",
          "data": {
            "text/plain": [
              "  class  aa_000 ab_000 ac_000 ad_000 ae_000 af_000 ag_000 ag_001 ag_002  ...  \\\n",
              "0   neg       6      0      0      0      0      0      0      0      0  ...   \n",
              "1   neg      90      0      0     66      0      0      0      0      0  ...   \n",
              "2   neg      30     na     16     14      0      0      0      0      0  ...   \n",
              "3   neg     444     na     14     12      0      0      0      0      0  ...   \n",
              "4   neg      82     na     12     10      0      0      0      0   1464  ...   \n",
              "\n",
              "  ee_002 ee_003 ee_004 ee_005 ee_006 ee_007 ee_008 ee_009 ef_000 eg_000  \n",
              "0     26      8     26     52      0      0      0      0      0      0  \n",
              "1   1268    526    554    300    118    260      0      0      0      0  \n",
              "2    480     84     74     50     46      0      0      0      0      0  \n",
              "3   1614   1144   3598   2460   1258   8524    110      0      0      0  \n",
              "4   1010    132    310     56     92   1292      0      0      0      0  \n",
              "\n",
              "[5 rows x 171 columns]"
            ],
            "text/html": [
              "\n",
              "  <div id=\"df-aff6ba80-25e6-48c3-a35c-1bd3741398f3\">\n",
              "    <div class=\"colab-df-container\">\n",
              "      <div>\n",
              "<style scoped>\n",
              "    .dataframe tbody tr th:only-of-type {\n",
              "        vertical-align: middle;\n",
              "    }\n",
              "\n",
              "    .dataframe tbody tr th {\n",
              "        vertical-align: top;\n",
              "    }\n",
              "\n",
              "    .dataframe thead th {\n",
              "        text-align: right;\n",
              "    }\n",
              "</style>\n",
              "<table border=\"1\" class=\"dataframe\">\n",
              "  <thead>\n",
              "    <tr style=\"text-align: right;\">\n",
              "      <th></th>\n",
              "      <th>class</th>\n",
              "      <th>aa_000</th>\n",
              "      <th>ab_000</th>\n",
              "      <th>ac_000</th>\n",
              "      <th>ad_000</th>\n",
              "      <th>ae_000</th>\n",
              "      <th>af_000</th>\n",
              "      <th>ag_000</th>\n",
              "      <th>ag_001</th>\n",
              "      <th>ag_002</th>\n",
              "      <th>...</th>\n",
              "      <th>ee_002</th>\n",
              "      <th>ee_003</th>\n",
              "      <th>ee_004</th>\n",
              "      <th>ee_005</th>\n",
              "      <th>ee_006</th>\n",
              "      <th>ee_007</th>\n",
              "      <th>ee_008</th>\n",
              "      <th>ee_009</th>\n",
              "      <th>ef_000</th>\n",
              "      <th>eg_000</th>\n",
              "    </tr>\n",
              "  </thead>\n",
              "  <tbody>\n",
              "    <tr>\n",
              "      <th>0</th>\n",
              "      <td>neg</td>\n",
              "      <td>6</td>\n",
              "      <td>0</td>\n",
              "      <td>0</td>\n",
              "      <td>0</td>\n",
              "      <td>0</td>\n",
              "      <td>0</td>\n",
              "      <td>0</td>\n",
              "      <td>0</td>\n",
              "      <td>0</td>\n",
              "      <td>...</td>\n",
              "      <td>26</td>\n",
              "      <td>8</td>\n",
              "      <td>26</td>\n",
              "      <td>52</td>\n",
              "      <td>0</td>\n",
              "      <td>0</td>\n",
              "      <td>0</td>\n",
              "      <td>0</td>\n",
              "      <td>0</td>\n",
              "      <td>0</td>\n",
              "    </tr>\n",
              "    <tr>\n",
              "      <th>1</th>\n",
              "      <td>neg</td>\n",
              "      <td>90</td>\n",
              "      <td>0</td>\n",
              "      <td>0</td>\n",
              "      <td>66</td>\n",
              "      <td>0</td>\n",
              "      <td>0</td>\n",
              "      <td>0</td>\n",
              "      <td>0</td>\n",
              "      <td>0</td>\n",
              "      <td>...</td>\n",
              "      <td>1268</td>\n",
              "      <td>526</td>\n",
              "      <td>554</td>\n",
              "      <td>300</td>\n",
              "      <td>118</td>\n",
              "      <td>260</td>\n",
              "      <td>0</td>\n",
              "      <td>0</td>\n",
              "      <td>0</td>\n",
              "      <td>0</td>\n",
              "    </tr>\n",
              "    <tr>\n",
              "      <th>2</th>\n",
              "      <td>neg</td>\n",
              "      <td>30</td>\n",
              "      <td>na</td>\n",
              "      <td>16</td>\n",
              "      <td>14</td>\n",
              "      <td>0</td>\n",
              "      <td>0</td>\n",
              "      <td>0</td>\n",
              "      <td>0</td>\n",
              "      <td>0</td>\n",
              "      <td>...</td>\n",
              "      <td>480</td>\n",
              "      <td>84</td>\n",
              "      <td>74</td>\n",
              "      <td>50</td>\n",
              "      <td>46</td>\n",
              "      <td>0</td>\n",
              "      <td>0</td>\n",
              "      <td>0</td>\n",
              "      <td>0</td>\n",
              "      <td>0</td>\n",
              "    </tr>\n",
              "    <tr>\n",
              "      <th>3</th>\n",
              "      <td>neg</td>\n",
              "      <td>444</td>\n",
              "      <td>na</td>\n",
              "      <td>14</td>\n",
              "      <td>12</td>\n",
              "      <td>0</td>\n",
              "      <td>0</td>\n",
              "      <td>0</td>\n",
              "      <td>0</td>\n",
              "      <td>0</td>\n",
              "      <td>...</td>\n",
              "      <td>1614</td>\n",
              "      <td>1144</td>\n",
              "      <td>3598</td>\n",
              "      <td>2460</td>\n",
              "      <td>1258</td>\n",
              "      <td>8524</td>\n",
              "      <td>110</td>\n",
              "      <td>0</td>\n",
              "      <td>0</td>\n",
              "      <td>0</td>\n",
              "    </tr>\n",
              "    <tr>\n",
              "      <th>4</th>\n",
              "      <td>neg</td>\n",
              "      <td>82</td>\n",
              "      <td>na</td>\n",
              "      <td>12</td>\n",
              "      <td>10</td>\n",
              "      <td>0</td>\n",
              "      <td>0</td>\n",
              "      <td>0</td>\n",
              "      <td>0</td>\n",
              "      <td>1464</td>\n",
              "      <td>...</td>\n",
              "      <td>1010</td>\n",
              "      <td>132</td>\n",
              "      <td>310</td>\n",
              "      <td>56</td>\n",
              "      <td>92</td>\n",
              "      <td>1292</td>\n",
              "      <td>0</td>\n",
              "      <td>0</td>\n",
              "      <td>0</td>\n",
              "      <td>0</td>\n",
              "    </tr>\n",
              "  </tbody>\n",
              "</table>\n",
              "<p>5 rows × 171 columns</p>\n",
              "</div>\n",
              "      <button class=\"colab-df-convert\" onclick=\"convertToInteractive('df-aff6ba80-25e6-48c3-a35c-1bd3741398f3')\"\n",
              "              title=\"Convert this dataframe to an interactive table.\"\n",
              "              style=\"display:none;\">\n",
              "        \n",
              "  <svg xmlns=\"http://www.w3.org/2000/svg\" height=\"24px\"viewBox=\"0 0 24 24\"\n",
              "       width=\"24px\">\n",
              "    <path d=\"M0 0h24v24H0V0z\" fill=\"none\"/>\n",
              "    <path d=\"M18.56 5.44l.94 2.06.94-2.06 2.06-.94-2.06-.94-.94-2.06-.94 2.06-2.06.94zm-11 1L8.5 8.5l.94-2.06 2.06-.94-2.06-.94L8.5 2.5l-.94 2.06-2.06.94zm10 10l.94 2.06.94-2.06 2.06-.94-2.06-.94-.94-2.06-.94 2.06-2.06.94z\"/><path d=\"M17.41 7.96l-1.37-1.37c-.4-.4-.92-.59-1.43-.59-.52 0-1.04.2-1.43.59L10.3 9.45l-7.72 7.72c-.78.78-.78 2.05 0 2.83L4 21.41c.39.39.9.59 1.41.59.51 0 1.02-.2 1.41-.59l7.78-7.78 2.81-2.81c.8-.78.8-2.07 0-2.86zM5.41 20L4 18.59l7.72-7.72 1.47 1.35L5.41 20z\"/>\n",
              "  </svg>\n",
              "      </button>\n",
              "      \n",
              "  <style>\n",
              "    .colab-df-container {\n",
              "      display:flex;\n",
              "      flex-wrap:wrap;\n",
              "      gap: 12px;\n",
              "    }\n",
              "\n",
              "    .colab-df-convert {\n",
              "      background-color: #E8F0FE;\n",
              "      border: none;\n",
              "      border-radius: 50%;\n",
              "      cursor: pointer;\n",
              "      display: none;\n",
              "      fill: #1967D2;\n",
              "      height: 32px;\n",
              "      padding: 0 0 0 0;\n",
              "      width: 32px;\n",
              "    }\n",
              "\n",
              "    .colab-df-convert:hover {\n",
              "      background-color: #E2EBFA;\n",
              "      box-shadow: 0px 1px 2px rgba(60, 64, 67, 0.3), 0px 1px 3px 1px rgba(60, 64, 67, 0.15);\n",
              "      fill: #174EA6;\n",
              "    }\n",
              "\n",
              "    [theme=dark] .colab-df-convert {\n",
              "      background-color: #3B4455;\n",
              "      fill: #D2E3FC;\n",
              "    }\n",
              "\n",
              "    [theme=dark] .colab-df-convert:hover {\n",
              "      background-color: #434B5C;\n",
              "      box-shadow: 0px 1px 3px 1px rgba(0, 0, 0, 0.15);\n",
              "      filter: drop-shadow(0px 1px 2px rgba(0, 0, 0, 0.3));\n",
              "      fill: #FFFFFF;\n",
              "    }\n",
              "  </style>\n",
              "\n",
              "      <script>\n",
              "        const buttonEl =\n",
              "          document.querySelector('#df-aff6ba80-25e6-48c3-a35c-1bd3741398f3 button.colab-df-convert');\n",
              "        buttonEl.style.display =\n",
              "          google.colab.kernel.accessAllowed ? 'block' : 'none';\n",
              "\n",
              "        async function convertToInteractive(key) {\n",
              "          const element = document.querySelector('#df-aff6ba80-25e6-48c3-a35c-1bd3741398f3');\n",
              "          const dataTable =\n",
              "            await google.colab.kernel.invokeFunction('convertToInteractive',\n",
              "                                                     [key], {});\n",
              "          if (!dataTable) return;\n",
              "\n",
              "          const docLinkHtml = 'Like what you see? Visit the ' +\n",
              "            '<a target=\"_blank\" href=https://colab.research.google.com/notebooks/data_table.ipynb>data table notebook</a>'\n",
              "            + ' to learn more about interactive tables.';\n",
              "          element.innerHTML = '';\n",
              "          dataTable['output_type'] = 'display_data';\n",
              "          await google.colab.output.renderOutput(dataTable, element);\n",
              "          const docLink = document.createElement('div');\n",
              "          docLink.innerHTML = docLinkHtml;\n",
              "          element.appendChild(docLink);\n",
              "        }\n",
              "      </script>\n",
              "    </div>\n",
              "  </div>\n",
              "  "
            ]
          },
          "metadata": {},
          "execution_count": 4
        }
      ]
    },
    {
      "cell_type": "code",
      "source": [
        "data.isnull().sum()"
      ],
      "metadata": {
        "colab": {
          "base_uri": "https://localhost:8080/"
        },
        "id": "pYNLrpVFYYqd",
        "outputId": "50b132e1-3d7e-4b2e-dfd5-7b6a4411c936"
      },
      "execution_count": null,
      "outputs": [
        {
          "output_type": "execute_result",
          "data": {
            "text/plain": [
              "class     0\n",
              "aa_000    0\n",
              "ab_000    0\n",
              "ac_000    0\n",
              "ad_000    0\n",
              "         ..\n",
              "ee_007    0\n",
              "ee_008    0\n",
              "ee_009    0\n",
              "ef_000    0\n",
              "eg_000    0\n",
              "Length: 171, dtype: int64"
            ]
          },
          "metadata": {},
          "execution_count": 5
        }
      ]
    },
    {
      "cell_type": "code",
      "source": [
        "import numpy as np\n",
        "data.replace('na', np.NaN, inplace = True)"
      ],
      "metadata": {
        "id": "6HbZMItQYbzI"
      },
      "execution_count": null,
      "outputs": []
    },
    {
      "cell_type": "code",
      "source": [
        "data.isnull().sum().sum()"
      ],
      "metadata": {
        "colab": {
          "base_uri": "https://localhost:8080/"
        },
        "id": "KjcLJxE2Yif7",
        "outputId": "95c326eb-1498-4c57-aa3b-08ee694b2ba9"
      },
      "execution_count": null,
      "outputs": [
        {
          "output_type": "execute_result",
          "data": {
            "text/plain": [
              "71649"
            ]
          },
          "metadata": {},
          "execution_count": 7
        }
      ]
    },
    {
      "cell_type": "code",
      "source": [
        "pd.options.display.max_rows= 1000"
      ],
      "metadata": {
        "id": "3nyebi0YZksy"
      },
      "execution_count": null,
      "outputs": []
    },
    {
      "cell_type": "code",
      "source": [
        "data.isnull().sum()"
      ],
      "metadata": {
        "colab": {
          "base_uri": "https://localhost:8080/"
        },
        "id": "O0Ode6TFZ_uk",
        "outputId": "1cd7708b-e7a9-4b3a-e0cb-6de04bd59b71"
      },
      "execution_count": null,
      "outputs": [
        {
          "output_type": "execute_result",
          "data": {
            "text/plain": [
              "class        0\n",
              "aa_000       0\n",
              "ab_000    3849\n",
              "ac_000     308\n",
              "ad_000    1236\n",
              "ae_000     224\n",
              "af_000     224\n",
              "ag_000      58\n",
              "ag_001      58\n",
              "ag_002      58\n",
              "ag_003      58\n",
              "ag_004      58\n",
              "ag_005      58\n",
              "ag_006      58\n",
              "ag_007      58\n",
              "ag_008      58\n",
              "ag_009      58\n",
              "ah_000      60\n",
              "ai_000      56\n",
              "aj_000      56\n",
              "ak_000     384\n",
              "al_000      65\n",
              "am_0        56\n",
              "an_000      65\n",
              "ao_000      53\n",
              "ap_000      65\n",
              "aq_000      53\n",
              "ar_000     242\n",
              "as_000      56\n",
              "at_000      56\n",
              "au_000      56\n",
              "av_000     224\n",
              "ax_000     224\n",
              "ay_000      58\n",
              "ay_001      58\n",
              "ay_002      58\n",
              "ay_003      58\n",
              "ay_004      58\n",
              "ay_005      58\n",
              "ay_006      58\n",
              "ay_007      58\n",
              "ay_008      58\n",
              "ay_009      58\n",
              "az_000      58\n",
              "az_001      58\n",
              "az_002      58\n",
              "az_003      58\n",
              "az_004      58\n",
              "az_005      58\n",
              "az_006      58\n",
              "az_007      58\n",
              "az_008      58\n",
              "az_009      58\n",
              "ba_000      61\n",
              "ba_001      61\n",
              "ba_002      61\n",
              "ba_003      61\n",
              "ba_004      61\n",
              "ba_005      61\n",
              "ba_006      61\n",
              "ba_007      61\n",
              "ba_008      61\n",
              "ba_009      61\n",
              "bb_000      60\n",
              "bc_000     243\n",
              "bd_000     243\n",
              "be_000     225\n",
              "bf_000     224\n",
              "bg_000      65\n",
              "bh_000      65\n",
              "bi_000      53\n",
              "bj_000      53\n",
              "bk_000    1880\n",
              "bl_000    2234\n",
              "bm_000    3273\n",
              "bn_000    3631\n",
              "bo_000    3832\n",
              "bp_000    3960\n",
              "bq_000    4043\n",
              "br_000    4105\n",
              "bs_000      66\n",
              "bt_000      12\n",
              "bu_000      64\n",
              "bv_000      64\n",
              "bx_000     288\n",
              "by_000      43\n",
              "bz_000     242\n",
              "ca_000     383\n",
              "cb_000      66\n",
              "cc_000     288\n",
              "cd_000      61\n",
              "ce_000     224\n",
              "cf_000    1236\n",
              "cg_000    1236\n",
              "ch_000    1236\n",
              "ci_000      38\n",
              "cj_000      38\n",
              "ck_000      38\n",
              "cl_000     778\n",
              "cm_000     796\n",
              "cn_000      61\n",
              "cn_001      61\n",
              "cn_002      61\n",
              "cn_003      61\n",
              "cn_004      61\n",
              "cn_005      61\n",
              "cn_006      61\n",
              "cn_007      61\n",
              "cn_008      61\n",
              "cn_009      61\n",
              "co_000    1236\n",
              "cp_000     242\n",
              "cq_000      64\n",
              "cr_000    3849\n",
              "cs_000      58\n",
              "cs_001      58\n",
              "cs_002      58\n",
              "cs_003      58\n",
              "cs_004      58\n",
              "cs_005      58\n",
              "cs_006      58\n",
              "cs_007      58\n",
              "cs_008      58\n",
              "cs_009      58\n",
              "ct_000    1150\n",
              "cu_000    1150\n",
              "cv_000    1150\n",
              "cx_000    1150\n",
              "cy_000    1150\n",
              "cz_000    1150\n",
              "da_000    1150\n",
              "db_000    1150\n",
              "dc_000    1150\n",
              "dd_000     224\n",
              "de_000     242\n",
              "df_000     361\n",
              "dg_000     361\n",
              "dh_000     361\n",
              "di_000     361\n",
              "dj_000     361\n",
              "dk_000     361\n",
              "dl_000     361\n",
              "dm_000     361\n",
              "dn_000      64\n",
              "do_000     243\n",
              "dp_000     243\n",
              "dq_000     243\n",
              "dr_000     243\n",
              "ds_000     243\n",
              "dt_000     243\n",
              "du_000     243\n",
              "dv_000     243\n",
              "dx_000     242\n",
              "dy_000     242\n",
              "dz_000     242\n",
              "ea_000     242\n",
              "eb_000     361\n",
              "ec_00      837\n",
              "ed_000     778\n",
              "ee_000      58\n",
              "ee_001      58\n",
              "ee_002      58\n",
              "ee_003      58\n",
              "ee_004      58\n",
              "ee_005      58\n",
              "ee_006      58\n",
              "ee_007      58\n",
              "ee_008      58\n",
              "ee_009      58\n",
              "ef_000     242\n",
              "eg_000     242\n",
              "dtype: int64"
            ]
          },
          "metadata": {},
          "execution_count": 9
        }
      ]
    },
    {
      "cell_type": "code",
      "source": [
        "dataset = pd.DataFrame(data.isnull().sum().sort_values(ascending = False).rename({0:'Null Value Count'}))"
      ],
      "metadata": {
        "id": "Fgl56UwraNKe"
      },
      "execution_count": null,
      "outputs": []
    },
    {
      "cell_type": "code",
      "source": [
        "dataset.head()"
      ],
      "metadata": {
        "colab": {
          "base_uri": "https://localhost:8080/",
          "height": 206
        },
        "id": "LA6sLLBpbMTd",
        "outputId": "8007ef1d-36fe-493e-cd63-021d5fd40081"
      },
      "execution_count": null,
      "outputs": [
        {
          "output_type": "execute_result",
          "data": {
            "text/plain": [
              "           0\n",
              "br_000  4105\n",
              "bq_000  4043\n",
              "bp_000  3960\n",
              "ab_000  3849\n",
              "cr_000  3849"
            ],
            "text/html": [
              "\n",
              "  <div id=\"df-318332be-3f79-4744-9f54-d824b2e33097\">\n",
              "    <div class=\"colab-df-container\">\n",
              "      <div>\n",
              "<style scoped>\n",
              "    .dataframe tbody tr th:only-of-type {\n",
              "        vertical-align: middle;\n",
              "    }\n",
              "\n",
              "    .dataframe tbody tr th {\n",
              "        vertical-align: top;\n",
              "    }\n",
              "\n",
              "    .dataframe thead th {\n",
              "        text-align: right;\n",
              "    }\n",
              "</style>\n",
              "<table border=\"1\" class=\"dataframe\">\n",
              "  <thead>\n",
              "    <tr style=\"text-align: right;\">\n",
              "      <th></th>\n",
              "      <th>0</th>\n",
              "    </tr>\n",
              "  </thead>\n",
              "  <tbody>\n",
              "    <tr>\n",
              "      <th>br_000</th>\n",
              "      <td>4105</td>\n",
              "    </tr>\n",
              "    <tr>\n",
              "      <th>bq_000</th>\n",
              "      <td>4043</td>\n",
              "    </tr>\n",
              "    <tr>\n",
              "      <th>bp_000</th>\n",
              "      <td>3960</td>\n",
              "    </tr>\n",
              "    <tr>\n",
              "      <th>ab_000</th>\n",
              "      <td>3849</td>\n",
              "    </tr>\n",
              "    <tr>\n",
              "      <th>cr_000</th>\n",
              "      <td>3849</td>\n",
              "    </tr>\n",
              "  </tbody>\n",
              "</table>\n",
              "</div>\n",
              "      <button class=\"colab-df-convert\" onclick=\"convertToInteractive('df-318332be-3f79-4744-9f54-d824b2e33097')\"\n",
              "              title=\"Convert this dataframe to an interactive table.\"\n",
              "              style=\"display:none;\">\n",
              "        \n",
              "  <svg xmlns=\"http://www.w3.org/2000/svg\" height=\"24px\"viewBox=\"0 0 24 24\"\n",
              "       width=\"24px\">\n",
              "    <path d=\"M0 0h24v24H0V0z\" fill=\"none\"/>\n",
              "    <path d=\"M18.56 5.44l.94 2.06.94-2.06 2.06-.94-2.06-.94-.94-2.06-.94 2.06-2.06.94zm-11 1L8.5 8.5l.94-2.06 2.06-.94-2.06-.94L8.5 2.5l-.94 2.06-2.06.94zm10 10l.94 2.06.94-2.06 2.06-.94-2.06-.94-.94-2.06-.94 2.06-2.06.94z\"/><path d=\"M17.41 7.96l-1.37-1.37c-.4-.4-.92-.59-1.43-.59-.52 0-1.04.2-1.43.59L10.3 9.45l-7.72 7.72c-.78.78-.78 2.05 0 2.83L4 21.41c.39.39.9.59 1.41.59.51 0 1.02-.2 1.41-.59l7.78-7.78 2.81-2.81c.8-.78.8-2.07 0-2.86zM5.41 20L4 18.59l7.72-7.72 1.47 1.35L5.41 20z\"/>\n",
              "  </svg>\n",
              "      </button>\n",
              "      \n",
              "  <style>\n",
              "    .colab-df-container {\n",
              "      display:flex;\n",
              "      flex-wrap:wrap;\n",
              "      gap: 12px;\n",
              "    }\n",
              "\n",
              "    .colab-df-convert {\n",
              "      background-color: #E8F0FE;\n",
              "      border: none;\n",
              "      border-radius: 50%;\n",
              "      cursor: pointer;\n",
              "      display: none;\n",
              "      fill: #1967D2;\n",
              "      height: 32px;\n",
              "      padding: 0 0 0 0;\n",
              "      width: 32px;\n",
              "    }\n",
              "\n",
              "    .colab-df-convert:hover {\n",
              "      background-color: #E2EBFA;\n",
              "      box-shadow: 0px 1px 2px rgba(60, 64, 67, 0.3), 0px 1px 3px 1px rgba(60, 64, 67, 0.15);\n",
              "      fill: #174EA6;\n",
              "    }\n",
              "\n",
              "    [theme=dark] .colab-df-convert {\n",
              "      background-color: #3B4455;\n",
              "      fill: #D2E3FC;\n",
              "    }\n",
              "\n",
              "    [theme=dark] .colab-df-convert:hover {\n",
              "      background-color: #434B5C;\n",
              "      box-shadow: 0px 1px 3px 1px rgba(0, 0, 0, 0.15);\n",
              "      filter: drop-shadow(0px 1px 2px rgba(0, 0, 0, 0.3));\n",
              "      fill: #FFFFFF;\n",
              "    }\n",
              "  </style>\n",
              "\n",
              "      <script>\n",
              "        const buttonEl =\n",
              "          document.querySelector('#df-318332be-3f79-4744-9f54-d824b2e33097 button.colab-df-convert');\n",
              "        buttonEl.style.display =\n",
              "          google.colab.kernel.accessAllowed ? 'block' : 'none';\n",
              "\n",
              "        async function convertToInteractive(key) {\n",
              "          const element = document.querySelector('#df-318332be-3f79-4744-9f54-d824b2e33097');\n",
              "          const dataTable =\n",
              "            await google.colab.kernel.invokeFunction('convertToInteractive',\n",
              "                                                     [key], {});\n",
              "          if (!dataTable) return;\n",
              "\n",
              "          const docLinkHtml = 'Like what you see? Visit the ' +\n",
              "            '<a target=\"_blank\" href=https://colab.research.google.com/notebooks/data_table.ipynb>data table notebook</a>'\n",
              "            + ' to learn more about interactive tables.';\n",
              "          element.innerHTML = '';\n",
              "          dataTable['output_type'] = 'display_data';\n",
              "          await google.colab.output.renderOutput(dataTable, element);\n",
              "          const docLink = document.createElement('div');\n",
              "          docLink.innerHTML = docLinkHtml;\n",
              "          element.appendChild(docLink);\n",
              "        }\n",
              "      </script>\n",
              "    </div>\n",
              "  </div>\n",
              "  "
            ]
          },
          "metadata": {},
          "execution_count": 11
        }
      ]
    },
    {
      "cell_type": "code",
      "source": [
        "dataset.rename(columns={0:'missing null value counts'}, inplace=True)\n"
      ],
      "metadata": {
        "id": "NK6WmhfgctX5"
      },
      "execution_count": null,
      "outputs": []
    },
    {
      "cell_type": "code",
      "source": [
        "dataset.head()"
      ],
      "metadata": {
        "colab": {
          "base_uri": "https://localhost:8080/",
          "height": 206
        },
        "id": "us_m6w-Yczk-",
        "outputId": "0a175c69-645c-43b0-b33a-2a27d3f4d543"
      },
      "execution_count": null,
      "outputs": [
        {
          "output_type": "execute_result",
          "data": {
            "text/plain": [
              "        missing null value counts\n",
              "br_000                       4105\n",
              "bq_000                       4043\n",
              "bp_000                       3960\n",
              "ab_000                       3849\n",
              "cr_000                       3849"
            ],
            "text/html": [
              "\n",
              "  <div id=\"df-57b7d242-46dc-43da-8f86-eea5e1481726\">\n",
              "    <div class=\"colab-df-container\">\n",
              "      <div>\n",
              "<style scoped>\n",
              "    .dataframe tbody tr th:only-of-type {\n",
              "        vertical-align: middle;\n",
              "    }\n",
              "\n",
              "    .dataframe tbody tr th {\n",
              "        vertical-align: top;\n",
              "    }\n",
              "\n",
              "    .dataframe thead th {\n",
              "        text-align: right;\n",
              "    }\n",
              "</style>\n",
              "<table border=\"1\" class=\"dataframe\">\n",
              "  <thead>\n",
              "    <tr style=\"text-align: right;\">\n",
              "      <th></th>\n",
              "      <th>missing null value counts</th>\n",
              "    </tr>\n",
              "  </thead>\n",
              "  <tbody>\n",
              "    <tr>\n",
              "      <th>br_000</th>\n",
              "      <td>4105</td>\n",
              "    </tr>\n",
              "    <tr>\n",
              "      <th>bq_000</th>\n",
              "      <td>4043</td>\n",
              "    </tr>\n",
              "    <tr>\n",
              "      <th>bp_000</th>\n",
              "      <td>3960</td>\n",
              "    </tr>\n",
              "    <tr>\n",
              "      <th>ab_000</th>\n",
              "      <td>3849</td>\n",
              "    </tr>\n",
              "    <tr>\n",
              "      <th>cr_000</th>\n",
              "      <td>3849</td>\n",
              "    </tr>\n",
              "  </tbody>\n",
              "</table>\n",
              "</div>\n",
              "      <button class=\"colab-df-convert\" onclick=\"convertToInteractive('df-57b7d242-46dc-43da-8f86-eea5e1481726')\"\n",
              "              title=\"Convert this dataframe to an interactive table.\"\n",
              "              style=\"display:none;\">\n",
              "        \n",
              "  <svg xmlns=\"http://www.w3.org/2000/svg\" height=\"24px\"viewBox=\"0 0 24 24\"\n",
              "       width=\"24px\">\n",
              "    <path d=\"M0 0h24v24H0V0z\" fill=\"none\"/>\n",
              "    <path d=\"M18.56 5.44l.94 2.06.94-2.06 2.06-.94-2.06-.94-.94-2.06-.94 2.06-2.06.94zm-11 1L8.5 8.5l.94-2.06 2.06-.94-2.06-.94L8.5 2.5l-.94 2.06-2.06.94zm10 10l.94 2.06.94-2.06 2.06-.94-2.06-.94-.94-2.06-.94 2.06-2.06.94z\"/><path d=\"M17.41 7.96l-1.37-1.37c-.4-.4-.92-.59-1.43-.59-.52 0-1.04.2-1.43.59L10.3 9.45l-7.72 7.72c-.78.78-.78 2.05 0 2.83L4 21.41c.39.39.9.59 1.41.59.51 0 1.02-.2 1.41-.59l7.78-7.78 2.81-2.81c.8-.78.8-2.07 0-2.86zM5.41 20L4 18.59l7.72-7.72 1.47 1.35L5.41 20z\"/>\n",
              "  </svg>\n",
              "      </button>\n",
              "      \n",
              "  <style>\n",
              "    .colab-df-container {\n",
              "      display:flex;\n",
              "      flex-wrap:wrap;\n",
              "      gap: 12px;\n",
              "    }\n",
              "\n",
              "    .colab-df-convert {\n",
              "      background-color: #E8F0FE;\n",
              "      border: none;\n",
              "      border-radius: 50%;\n",
              "      cursor: pointer;\n",
              "      display: none;\n",
              "      fill: #1967D2;\n",
              "      height: 32px;\n",
              "      padding: 0 0 0 0;\n",
              "      width: 32px;\n",
              "    }\n",
              "\n",
              "    .colab-df-convert:hover {\n",
              "      background-color: #E2EBFA;\n",
              "      box-shadow: 0px 1px 2px rgba(60, 64, 67, 0.3), 0px 1px 3px 1px rgba(60, 64, 67, 0.15);\n",
              "      fill: #174EA6;\n",
              "    }\n",
              "\n",
              "    [theme=dark] .colab-df-convert {\n",
              "      background-color: #3B4455;\n",
              "      fill: #D2E3FC;\n",
              "    }\n",
              "\n",
              "    [theme=dark] .colab-df-convert:hover {\n",
              "      background-color: #434B5C;\n",
              "      box-shadow: 0px 1px 3px 1px rgba(0, 0, 0, 0.15);\n",
              "      filter: drop-shadow(0px 1px 2px rgba(0, 0, 0, 0.3));\n",
              "      fill: #FFFFFF;\n",
              "    }\n",
              "  </style>\n",
              "\n",
              "      <script>\n",
              "        const buttonEl =\n",
              "          document.querySelector('#df-57b7d242-46dc-43da-8f86-eea5e1481726 button.colab-df-convert');\n",
              "        buttonEl.style.display =\n",
              "          google.colab.kernel.accessAllowed ? 'block' : 'none';\n",
              "\n",
              "        async function convertToInteractive(key) {\n",
              "          const element = document.querySelector('#df-57b7d242-46dc-43da-8f86-eea5e1481726');\n",
              "          const dataTable =\n",
              "            await google.colab.kernel.invokeFunction('convertToInteractive',\n",
              "                                                     [key], {});\n",
              "          if (!dataTable) return;\n",
              "\n",
              "          const docLinkHtml = 'Like what you see? Visit the ' +\n",
              "            '<a target=\"_blank\" href=https://colab.research.google.com/notebooks/data_table.ipynb>data table notebook</a>'\n",
              "            + ' to learn more about interactive tables.';\n",
              "          element.innerHTML = '';\n",
              "          dataTable['output_type'] = 'display_data';\n",
              "          await google.colab.output.renderOutput(dataTable, element);\n",
              "          const docLink = document.createElement('div');\n",
              "          docLink.innerHTML = docLinkHtml;\n",
              "          element.appendChild(docLink);\n",
              "        }\n",
              "      </script>\n",
              "    </div>\n",
              "  </div>\n",
              "  "
            ]
          },
          "metadata": {},
          "execution_count": 13
        }
      ]
    },
    {
      "cell_type": "code",
      "source": [
        "##filling null values|\n",
        "feature_with_null_values = [feature for feature in data.columns if data[feature].isnull().sum()>1 ]"
      ],
      "metadata": {
        "id": "CHm_2k87dL54"
      },
      "execution_count": null,
      "outputs": []
    },
    {
      "cell_type": "code",
      "source": [
        "feature_with_null_values"
      ],
      "metadata": {
        "id": "p3V56xtUe_s4",
        "colab": {
          "base_uri": "https://localhost:8080/"
        },
        "outputId": "2cb94547-1f1e-4029-b8bb-c6ca42f5022a"
      },
      "execution_count": null,
      "outputs": [
        {
          "output_type": "execute_result",
          "data": {
            "text/plain": [
              "['ab_000',\n",
              " 'ac_000',\n",
              " 'ad_000',\n",
              " 'ae_000',\n",
              " 'af_000',\n",
              " 'ag_000',\n",
              " 'ag_001',\n",
              " 'ag_002',\n",
              " 'ag_003',\n",
              " 'ag_004',\n",
              " 'ag_005',\n",
              " 'ag_006',\n",
              " 'ag_007',\n",
              " 'ag_008',\n",
              " 'ag_009',\n",
              " 'ah_000',\n",
              " 'ai_000',\n",
              " 'aj_000',\n",
              " 'ak_000',\n",
              " 'al_000',\n",
              " 'am_0',\n",
              " 'an_000',\n",
              " 'ao_000',\n",
              " 'ap_000',\n",
              " 'aq_000',\n",
              " 'ar_000',\n",
              " 'as_000',\n",
              " 'at_000',\n",
              " 'au_000',\n",
              " 'av_000',\n",
              " 'ax_000',\n",
              " 'ay_000',\n",
              " 'ay_001',\n",
              " 'ay_002',\n",
              " 'ay_003',\n",
              " 'ay_004',\n",
              " 'ay_005',\n",
              " 'ay_006',\n",
              " 'ay_007',\n",
              " 'ay_008',\n",
              " 'ay_009',\n",
              " 'az_000',\n",
              " 'az_001',\n",
              " 'az_002',\n",
              " 'az_003',\n",
              " 'az_004',\n",
              " 'az_005',\n",
              " 'az_006',\n",
              " 'az_007',\n",
              " 'az_008',\n",
              " 'az_009',\n",
              " 'ba_000',\n",
              " 'ba_001',\n",
              " 'ba_002',\n",
              " 'ba_003',\n",
              " 'ba_004',\n",
              " 'ba_005',\n",
              " 'ba_006',\n",
              " 'ba_007',\n",
              " 'ba_008',\n",
              " 'ba_009',\n",
              " 'bb_000',\n",
              " 'bc_000',\n",
              " 'bd_000',\n",
              " 'be_000',\n",
              " 'bf_000',\n",
              " 'bg_000',\n",
              " 'bh_000',\n",
              " 'bi_000',\n",
              " 'bj_000',\n",
              " 'bk_000',\n",
              " 'bl_000',\n",
              " 'bm_000',\n",
              " 'bn_000',\n",
              " 'bo_000',\n",
              " 'bp_000',\n",
              " 'bq_000',\n",
              " 'br_000',\n",
              " 'bs_000',\n",
              " 'bt_000',\n",
              " 'bu_000',\n",
              " 'bv_000',\n",
              " 'bx_000',\n",
              " 'by_000',\n",
              " 'bz_000',\n",
              " 'ca_000',\n",
              " 'cb_000',\n",
              " 'cc_000',\n",
              " 'cd_000',\n",
              " 'ce_000',\n",
              " 'cf_000',\n",
              " 'cg_000',\n",
              " 'ch_000',\n",
              " 'ci_000',\n",
              " 'cj_000',\n",
              " 'ck_000',\n",
              " 'cl_000',\n",
              " 'cm_000',\n",
              " 'cn_000',\n",
              " 'cn_001',\n",
              " 'cn_002',\n",
              " 'cn_003',\n",
              " 'cn_004',\n",
              " 'cn_005',\n",
              " 'cn_006',\n",
              " 'cn_007',\n",
              " 'cn_008',\n",
              " 'cn_009',\n",
              " 'co_000',\n",
              " 'cp_000',\n",
              " 'cq_000',\n",
              " 'cr_000',\n",
              " 'cs_000',\n",
              " 'cs_001',\n",
              " 'cs_002',\n",
              " 'cs_003',\n",
              " 'cs_004',\n",
              " 'cs_005',\n",
              " 'cs_006',\n",
              " 'cs_007',\n",
              " 'cs_008',\n",
              " 'cs_009',\n",
              " 'ct_000',\n",
              " 'cu_000',\n",
              " 'cv_000',\n",
              " 'cx_000',\n",
              " 'cy_000',\n",
              " 'cz_000',\n",
              " 'da_000',\n",
              " 'db_000',\n",
              " 'dc_000',\n",
              " 'dd_000',\n",
              " 'de_000',\n",
              " 'df_000',\n",
              " 'dg_000',\n",
              " 'dh_000',\n",
              " 'di_000',\n",
              " 'dj_000',\n",
              " 'dk_000',\n",
              " 'dl_000',\n",
              " 'dm_000',\n",
              " 'dn_000',\n",
              " 'do_000',\n",
              " 'dp_000',\n",
              " 'dq_000',\n",
              " 'dr_000',\n",
              " 'ds_000',\n",
              " 'dt_000',\n",
              " 'du_000',\n",
              " 'dv_000',\n",
              " 'dx_000',\n",
              " 'dy_000',\n",
              " 'dz_000',\n",
              " 'ea_000',\n",
              " 'eb_000',\n",
              " 'ec_00',\n",
              " 'ed_000',\n",
              " 'ee_000',\n",
              " 'ee_001',\n",
              " 'ee_002',\n",
              " 'ee_003',\n",
              " 'ee_004',\n",
              " 'ee_005',\n",
              " 'ee_006',\n",
              " 'ee_007',\n",
              " 'ee_008',\n",
              " 'ee_009',\n",
              " 'ef_000',\n",
              " 'eg_000']"
            ]
          },
          "metadata": {},
          "execution_count": 15
        }
      ]
    },
    {
      "cell_type": "code",
      "source": [
        "len(feature_with_null_values)"
      ],
      "metadata": {
        "colab": {
          "base_uri": "https://localhost:8080/"
        },
        "id": "fDHkhRjiIO7S",
        "outputId": "54370905-1e6d-47e4-a96c-93fad551b89b"
      },
      "execution_count": null,
      "outputs": [
        {
          "output_type": "execute_result",
          "data": {
            "text/plain": [
              "169"
            ]
          },
          "metadata": {},
          "execution_count": 16
        }
      ]
    },
    {
      "cell_type": "code",
      "source": [
        "for feature in feature_with_null_values:\n",
        "  data[feature] = data[feature].fillna(data[feature].median())"
      ],
      "metadata": {
        "id": "C5BZaiabIaz3"
      },
      "execution_count": null,
      "outputs": []
    },
    {
      "cell_type": "code",
      "source": [
        "data.isnull().sum().sum()"
      ],
      "metadata": {
        "colab": {
          "base_uri": "https://localhost:8080/"
        },
        "id": "xyYm3ayEIsnb",
        "outputId": "775e9ad8-83bc-4687-c6fb-0a2560ff88f2"
      },
      "execution_count": null,
      "outputs": [
        {
          "output_type": "execute_result",
          "data": {
            "text/plain": [
              "0"
            ]
          },
          "metadata": {},
          "execution_count": 18
        }
      ]
    },
    {
      "cell_type": "code",
      "source": [
        "X = data.drop('class', axis = 1)"
      ],
      "metadata": {
        "id": "5phhg_J3Iv_j"
      },
      "execution_count": null,
      "outputs": []
    },
    {
      "cell_type": "code",
      "source": [
        "y = data['class']"
      ],
      "metadata": {
        "id": "0dky-Nmxs6Qk"
      },
      "execution_count": null,
      "outputs": []
    },
    {
      "cell_type": "code",
      "source": [
        "X.info(verbose = True, show_counts = True)"
      ],
      "metadata": {
        "colab": {
          "base_uri": "https://localhost:8080/"
        },
        "id": "u098MmzXs8QA",
        "outputId": "c01afb13-b742-4dea-bf78-e430c72732d8"
      },
      "execution_count": null,
      "outputs": [
        {
          "output_type": "stream",
          "name": "stdout",
          "text": [
            "<class 'pandas.core.frame.DataFrame'>\n",
            "RangeIndex: 5000 entries, 0 to 4999\n",
            "Data columns (total 170 columns):\n",
            " #    Column  Non-Null Count  Dtype \n",
            "---   ------  --------------  ----- \n",
            " 0    aa_000  5000 non-null   int64 \n",
            " 1    ab_000  5000 non-null   object\n",
            " 2    ac_000  5000 non-null   object\n",
            " 3    ad_000  5000 non-null   object\n",
            " 4    ae_000  5000 non-null   object\n",
            " 5    af_000  5000 non-null   object\n",
            " 6    ag_000  5000 non-null   object\n",
            " 7    ag_001  5000 non-null   object\n",
            " 8    ag_002  5000 non-null   object\n",
            " 9    ag_003  5000 non-null   object\n",
            " 10   ag_004  5000 non-null   object\n",
            " 11   ag_005  5000 non-null   object\n",
            " 12   ag_006  5000 non-null   object\n",
            " 13   ag_007  5000 non-null   object\n",
            " 14   ag_008  5000 non-null   object\n",
            " 15   ag_009  5000 non-null   object\n",
            " 16   ah_000  5000 non-null   object\n",
            " 17   ai_000  5000 non-null   object\n",
            " 18   aj_000  5000 non-null   object\n",
            " 19   ak_000  5000 non-null   object\n",
            " 20   al_000  5000 non-null   object\n",
            " 21   am_0    5000 non-null   object\n",
            " 22   an_000  5000 non-null   object\n",
            " 23   ao_000  5000 non-null   object\n",
            " 24   ap_000  5000 non-null   object\n",
            " 25   aq_000  5000 non-null   object\n",
            " 26   ar_000  5000 non-null   object\n",
            " 27   as_000  5000 non-null   object\n",
            " 28   at_000  5000 non-null   object\n",
            " 29   au_000  5000 non-null   object\n",
            " 30   av_000  5000 non-null   object\n",
            " 31   ax_000  5000 non-null   object\n",
            " 32   ay_000  5000 non-null   object\n",
            " 33   ay_001  5000 non-null   object\n",
            " 34   ay_002  5000 non-null   object\n",
            " 35   ay_003  5000 non-null   object\n",
            " 36   ay_004  5000 non-null   object\n",
            " 37   ay_005  5000 non-null   object\n",
            " 38   ay_006  5000 non-null   object\n",
            " 39   ay_007  5000 non-null   object\n",
            " 40   ay_008  5000 non-null   object\n",
            " 41   ay_009  5000 non-null   object\n",
            " 42   az_000  5000 non-null   object\n",
            " 43   az_001  5000 non-null   object\n",
            " 44   az_002  5000 non-null   object\n",
            " 45   az_003  5000 non-null   object\n",
            " 46   az_004  5000 non-null   object\n",
            " 47   az_005  5000 non-null   object\n",
            " 48   az_006  5000 non-null   object\n",
            " 49   az_007  5000 non-null   object\n",
            " 50   az_008  5000 non-null   object\n",
            " 51   az_009  5000 non-null   object\n",
            " 52   ba_000  5000 non-null   object\n",
            " 53   ba_001  5000 non-null   object\n",
            " 54   ba_002  5000 non-null   object\n",
            " 55   ba_003  5000 non-null   object\n",
            " 56   ba_004  5000 non-null   object\n",
            " 57   ba_005  5000 non-null   object\n",
            " 58   ba_006  5000 non-null   object\n",
            " 59   ba_007  5000 non-null   object\n",
            " 60   ba_008  5000 non-null   object\n",
            " 61   ba_009  5000 non-null   object\n",
            " 62   bb_000  5000 non-null   object\n",
            " 63   bc_000  5000 non-null   object\n",
            " 64   bd_000  5000 non-null   object\n",
            " 65   be_000  5000 non-null   object\n",
            " 66   bf_000  5000 non-null   object\n",
            " 67   bg_000  5000 non-null   object\n",
            " 68   bh_000  5000 non-null   object\n",
            " 69   bi_000  5000 non-null   object\n",
            " 70   bj_000  5000 non-null   object\n",
            " 71   bk_000  5000 non-null   object\n",
            " 72   bl_000  5000 non-null   object\n",
            " 73   bm_000  5000 non-null   object\n",
            " 74   bn_000  5000 non-null   object\n",
            " 75   bo_000  5000 non-null   object\n",
            " 76   bp_000  5000 non-null   object\n",
            " 77   bq_000  5000 non-null   object\n",
            " 78   br_000  5000 non-null   object\n",
            " 79   bs_000  5000 non-null   object\n",
            " 80   bt_000  5000 non-null   object\n",
            " 81   bu_000  5000 non-null   object\n",
            " 82   bv_000  5000 non-null   object\n",
            " 83   bx_000  5000 non-null   object\n",
            " 84   by_000  5000 non-null   object\n",
            " 85   bz_000  5000 non-null   object\n",
            " 86   ca_000  5000 non-null   object\n",
            " 87   cb_000  5000 non-null   object\n",
            " 88   cc_000  5000 non-null   object\n",
            " 89   cd_000  5000 non-null   object\n",
            " 90   ce_000  5000 non-null   object\n",
            " 91   cf_000  5000 non-null   object\n",
            " 92   cg_000  5000 non-null   object\n",
            " 93   ch_000  5000 non-null   object\n",
            " 94   ci_000  5000 non-null   object\n",
            " 95   cj_000  5000 non-null   object\n",
            " 96   ck_000  5000 non-null   object\n",
            " 97   cl_000  5000 non-null   object\n",
            " 98   cm_000  5000 non-null   object\n",
            " 99   cn_000  5000 non-null   object\n",
            " 100  cn_001  5000 non-null   object\n",
            " 101  cn_002  5000 non-null   object\n",
            " 102  cn_003  5000 non-null   object\n",
            " 103  cn_004  5000 non-null   object\n",
            " 104  cn_005  5000 non-null   object\n",
            " 105  cn_006  5000 non-null   object\n",
            " 106  cn_007  5000 non-null   object\n",
            " 107  cn_008  5000 non-null   object\n",
            " 108  cn_009  5000 non-null   object\n",
            " 109  co_000  5000 non-null   object\n",
            " 110  cp_000  5000 non-null   object\n",
            " 111  cq_000  5000 non-null   object\n",
            " 112  cr_000  5000 non-null   object\n",
            " 113  cs_000  5000 non-null   object\n",
            " 114  cs_001  5000 non-null   object\n",
            " 115  cs_002  5000 non-null   object\n",
            " 116  cs_003  5000 non-null   object\n",
            " 117  cs_004  5000 non-null   object\n",
            " 118  cs_005  5000 non-null   object\n",
            " 119  cs_006  5000 non-null   object\n",
            " 120  cs_007  5000 non-null   object\n",
            " 121  cs_008  5000 non-null   object\n",
            " 122  cs_009  5000 non-null   object\n",
            " 123  ct_000  5000 non-null   object\n",
            " 124  cu_000  5000 non-null   object\n",
            " 125  cv_000  5000 non-null   object\n",
            " 126  cx_000  5000 non-null   object\n",
            " 127  cy_000  5000 non-null   object\n",
            " 128  cz_000  5000 non-null   object\n",
            " 129  da_000  5000 non-null   object\n",
            " 130  db_000  5000 non-null   object\n",
            " 131  dc_000  5000 non-null   object\n",
            " 132  dd_000  5000 non-null   object\n",
            " 133  de_000  5000 non-null   object\n",
            " 134  df_000  5000 non-null   object\n",
            " 135  dg_000  5000 non-null   object\n",
            " 136  dh_000  5000 non-null   object\n",
            " 137  di_000  5000 non-null   object\n",
            " 138  dj_000  5000 non-null   object\n",
            " 139  dk_000  5000 non-null   object\n",
            " 140  dl_000  5000 non-null   object\n",
            " 141  dm_000  5000 non-null   object\n",
            " 142  dn_000  5000 non-null   object\n",
            " 143  do_000  5000 non-null   object\n",
            " 144  dp_000  5000 non-null   object\n",
            " 145  dq_000  5000 non-null   object\n",
            " 146  dr_000  5000 non-null   object\n",
            " 147  ds_000  5000 non-null   object\n",
            " 148  dt_000  5000 non-null   object\n",
            " 149  du_000  5000 non-null   object\n",
            " 150  dv_000  5000 non-null   object\n",
            " 151  dx_000  5000 non-null   object\n",
            " 152  dy_000  5000 non-null   object\n",
            " 153  dz_000  5000 non-null   object\n",
            " 154  ea_000  5000 non-null   object\n",
            " 155  eb_000  5000 non-null   object\n",
            " 156  ec_00   5000 non-null   object\n",
            " 157  ed_000  5000 non-null   object\n",
            " 158  ee_000  5000 non-null   object\n",
            " 159  ee_001  5000 non-null   object\n",
            " 160  ee_002  5000 non-null   object\n",
            " 161  ee_003  5000 non-null   object\n",
            " 162  ee_004  5000 non-null   object\n",
            " 163  ee_005  5000 non-null   object\n",
            " 164  ee_006  5000 non-null   object\n",
            " 165  ee_007  5000 non-null   object\n",
            " 166  ee_008  5000 non-null   object\n",
            " 167  ee_009  5000 non-null   object\n",
            " 168  ef_000  5000 non-null   object\n",
            " 169  eg_000  5000 non-null   object\n",
            "dtypes: int64(1), object(169)\n",
            "memory usage: 6.5+ MB\n"
          ]
        }
      ]
    },
    {
      "cell_type": "code",
      "source": [
        "y"
      ],
      "metadata": {
        "colab": {
          "base_uri": "https://localhost:8080/"
        },
        "id": "U8tU7E1GtkQa",
        "outputId": "b76d84aa-5446-48eb-9d23-ea048eab2134"
      },
      "execution_count": null,
      "outputs": [
        {
          "output_type": "execute_result",
          "data": {
            "text/plain": [
              "0       neg\n",
              "1       neg\n",
              "2       neg\n",
              "3       neg\n",
              "4       neg\n",
              "       ... \n",
              "4995    neg\n",
              "4996    neg\n",
              "4997    neg\n",
              "4998    neg\n",
              "4999    neg\n",
              "Name: class, Length: 5000, dtype: object"
            ]
          },
          "metadata": {},
          "execution_count": 22
        }
      ]
    },
    {
      "cell_type": "code",
      "source": [
        "y = pd.get_dummies(y,drop_first= True)"
      ],
      "metadata": {
        "id": "Sqh-7XHrt-5X"
      },
      "execution_count": null,
      "outputs": []
    },
    {
      "cell_type": "code",
      "source": [
        "from sklearn.model_selection import train_test_split"
      ],
      "metadata": {
        "id": "XH927iBeuYoy"
      },
      "execution_count": null,
      "outputs": []
    },
    {
      "cell_type": "code",
      "source": [
        "X_train, X_test, y_train, y_test = train_test_split(\n",
        "...     X, y, test_size=0.33, random_state=42)"
      ],
      "metadata": {
        "id": "SujCV3MduGog"
      },
      "execution_count": null,
      "outputs": []
    },
    {
      "cell_type": "code",
      "source": [
        "X_train.shape"
      ],
      "metadata": {
        "colab": {
          "base_uri": "https://localhost:8080/"
        },
        "id": "tA468saOuXE7",
        "outputId": "8802bd4f-f771-4d03-ebc6-608fbad9ae81"
      },
      "execution_count": null,
      "outputs": [
        {
          "output_type": "execute_result",
          "data": {
            "text/plain": [
              "(3350, 170)"
            ]
          },
          "metadata": {},
          "execution_count": 26
        }
      ]
    },
    {
      "cell_type": "code",
      "source": [
        "y_train.shape"
      ],
      "metadata": {
        "colab": {
          "base_uri": "https://localhost:8080/"
        },
        "id": "77ZAT6-fuxeJ",
        "outputId": "1b04e8ee-8431-471c-b284-2a0d6d3c8a9f"
      },
      "execution_count": null,
      "outputs": [
        {
          "output_type": "execute_result",
          "data": {
            "text/plain": [
              "(3350, 1)"
            ]
          },
          "metadata": {},
          "execution_count": 27
        }
      ]
    },
    {
      "cell_type": "code",
      "source": [
        "X_test.shape"
      ],
      "metadata": {
        "colab": {
          "base_uri": "https://localhost:8080/"
        },
        "id": "JYIz5gQru0GZ",
        "outputId": "43293e63-9a72-46c9-b572-3dfcfc412d63"
      },
      "execution_count": null,
      "outputs": [
        {
          "output_type": "execute_result",
          "data": {
            "text/plain": [
              "(1650, 170)"
            ]
          },
          "metadata": {},
          "execution_count": 28
        }
      ]
    },
    {
      "cell_type": "code",
      "source": [
        "y_test.shape"
      ],
      "metadata": {
        "colab": {
          "base_uri": "https://localhost:8080/"
        },
        "id": "xFbCm9Rqu4-g",
        "outputId": "0fbd3ef7-aed1-4f10-e03d-779f4895ee08"
      },
      "execution_count": null,
      "outputs": [
        {
          "output_type": "execute_result",
          "data": {
            "text/plain": [
              "(1650, 1)"
            ]
          },
          "metadata": {},
          "execution_count": 29
        }
      ]
    },
    {
      "cell_type": "code",
      "source": [
        "y"
      ],
      "metadata": {
        "colab": {
          "base_uri": "https://localhost:8080/",
          "height": 423
        },
        "id": "3ASOWs4nD724",
        "outputId": "ff141056-1503-46c9-808b-3c1f1fbabae9"
      },
      "execution_count": null,
      "outputs": [
        {
          "output_type": "execute_result",
          "data": {
            "text/plain": [
              "      pos\n",
              "0       0\n",
              "1       0\n",
              "2       0\n",
              "3       0\n",
              "4       0\n",
              "...   ...\n",
              "4995    0\n",
              "4996    0\n",
              "4997    0\n",
              "4998    0\n",
              "4999    0\n",
              "\n",
              "[5000 rows x 1 columns]"
            ],
            "text/html": [
              "\n",
              "  <div id=\"df-f7e5572f-666a-4eb8-aff1-6f347c40704c\">\n",
              "    <div class=\"colab-df-container\">\n",
              "      <div>\n",
              "<style scoped>\n",
              "    .dataframe tbody tr th:only-of-type {\n",
              "        vertical-align: middle;\n",
              "    }\n",
              "\n",
              "    .dataframe tbody tr th {\n",
              "        vertical-align: top;\n",
              "    }\n",
              "\n",
              "    .dataframe thead th {\n",
              "        text-align: right;\n",
              "    }\n",
              "</style>\n",
              "<table border=\"1\" class=\"dataframe\">\n",
              "  <thead>\n",
              "    <tr style=\"text-align: right;\">\n",
              "      <th></th>\n",
              "      <th>pos</th>\n",
              "    </tr>\n",
              "  </thead>\n",
              "  <tbody>\n",
              "    <tr>\n",
              "      <th>0</th>\n",
              "      <td>0</td>\n",
              "    </tr>\n",
              "    <tr>\n",
              "      <th>1</th>\n",
              "      <td>0</td>\n",
              "    </tr>\n",
              "    <tr>\n",
              "      <th>2</th>\n",
              "      <td>0</td>\n",
              "    </tr>\n",
              "    <tr>\n",
              "      <th>3</th>\n",
              "      <td>0</td>\n",
              "    </tr>\n",
              "    <tr>\n",
              "      <th>4</th>\n",
              "      <td>0</td>\n",
              "    </tr>\n",
              "    <tr>\n",
              "      <th>...</th>\n",
              "      <td>...</td>\n",
              "    </tr>\n",
              "    <tr>\n",
              "      <th>4995</th>\n",
              "      <td>0</td>\n",
              "    </tr>\n",
              "    <tr>\n",
              "      <th>4996</th>\n",
              "      <td>0</td>\n",
              "    </tr>\n",
              "    <tr>\n",
              "      <th>4997</th>\n",
              "      <td>0</td>\n",
              "    </tr>\n",
              "    <tr>\n",
              "      <th>4998</th>\n",
              "      <td>0</td>\n",
              "    </tr>\n",
              "    <tr>\n",
              "      <th>4999</th>\n",
              "      <td>0</td>\n",
              "    </tr>\n",
              "  </tbody>\n",
              "</table>\n",
              "<p>5000 rows × 1 columns</p>\n",
              "</div>\n",
              "      <button class=\"colab-df-convert\" onclick=\"convertToInteractive('df-f7e5572f-666a-4eb8-aff1-6f347c40704c')\"\n",
              "              title=\"Convert this dataframe to an interactive table.\"\n",
              "              style=\"display:none;\">\n",
              "        \n",
              "  <svg xmlns=\"http://www.w3.org/2000/svg\" height=\"24px\"viewBox=\"0 0 24 24\"\n",
              "       width=\"24px\">\n",
              "    <path d=\"M0 0h24v24H0V0z\" fill=\"none\"/>\n",
              "    <path d=\"M18.56 5.44l.94 2.06.94-2.06 2.06-.94-2.06-.94-.94-2.06-.94 2.06-2.06.94zm-11 1L8.5 8.5l.94-2.06 2.06-.94-2.06-.94L8.5 2.5l-.94 2.06-2.06.94zm10 10l.94 2.06.94-2.06 2.06-.94-2.06-.94-.94-2.06-.94 2.06-2.06.94z\"/><path d=\"M17.41 7.96l-1.37-1.37c-.4-.4-.92-.59-1.43-.59-.52 0-1.04.2-1.43.59L10.3 9.45l-7.72 7.72c-.78.78-.78 2.05 0 2.83L4 21.41c.39.39.9.59 1.41.59.51 0 1.02-.2 1.41-.59l7.78-7.78 2.81-2.81c.8-.78.8-2.07 0-2.86zM5.41 20L4 18.59l7.72-7.72 1.47 1.35L5.41 20z\"/>\n",
              "  </svg>\n",
              "      </button>\n",
              "      \n",
              "  <style>\n",
              "    .colab-df-container {\n",
              "      display:flex;\n",
              "      flex-wrap:wrap;\n",
              "      gap: 12px;\n",
              "    }\n",
              "\n",
              "    .colab-df-convert {\n",
              "      background-color: #E8F0FE;\n",
              "      border: none;\n",
              "      border-radius: 50%;\n",
              "      cursor: pointer;\n",
              "      display: none;\n",
              "      fill: #1967D2;\n",
              "      height: 32px;\n",
              "      padding: 0 0 0 0;\n",
              "      width: 32px;\n",
              "    }\n",
              "\n",
              "    .colab-df-convert:hover {\n",
              "      background-color: #E2EBFA;\n",
              "      box-shadow: 0px 1px 2px rgba(60, 64, 67, 0.3), 0px 1px 3px 1px rgba(60, 64, 67, 0.15);\n",
              "      fill: #174EA6;\n",
              "    }\n",
              "\n",
              "    [theme=dark] .colab-df-convert {\n",
              "      background-color: #3B4455;\n",
              "      fill: #D2E3FC;\n",
              "    }\n",
              "\n",
              "    [theme=dark] .colab-df-convert:hover {\n",
              "      background-color: #434B5C;\n",
              "      box-shadow: 0px 1px 3px 1px rgba(0, 0, 0, 0.15);\n",
              "      filter: drop-shadow(0px 1px 2px rgba(0, 0, 0, 0.3));\n",
              "      fill: #FFFFFF;\n",
              "    }\n",
              "  </style>\n",
              "\n",
              "      <script>\n",
              "        const buttonEl =\n",
              "          document.querySelector('#df-f7e5572f-666a-4eb8-aff1-6f347c40704c button.colab-df-convert');\n",
              "        buttonEl.style.display =\n",
              "          google.colab.kernel.accessAllowed ? 'block' : 'none';\n",
              "\n",
              "        async function convertToInteractive(key) {\n",
              "          const element = document.querySelector('#df-f7e5572f-666a-4eb8-aff1-6f347c40704c');\n",
              "          const dataTable =\n",
              "            await google.colab.kernel.invokeFunction('convertToInteractive',\n",
              "                                                     [key], {});\n",
              "          if (!dataTable) return;\n",
              "\n",
              "          const docLinkHtml = 'Like what you see? Visit the ' +\n",
              "            '<a target=\"_blank\" href=https://colab.research.google.com/notebooks/data_table.ipynb>data table notebook</a>'\n",
              "            + ' to learn more about interactive tables.';\n",
              "          element.innerHTML = '';\n",
              "          dataTable['output_type'] = 'display_data';\n",
              "          await google.colab.output.renderOutput(dataTable, element);\n",
              "          const docLink = document.createElement('div');\n",
              "          docLink.innerHTML = docLinkHtml;\n",
              "          element.appendChild(docLink);\n",
              "        }\n",
              "      </script>\n",
              "    </div>\n",
              "  </div>\n",
              "  "
            ]
          },
          "metadata": {},
          "execution_count": 30
        }
      ]
    },
    {
      "cell_type": "code",
      "source": [],
      "metadata": {
        "id": "qaU2c9_gD8Ay"
      },
      "execution_count": null,
      "outputs": []
    },
    {
      "cell_type": "code",
      "source": [
        " ##since we will be using optimizer--->gradient descent, we will do scaling"
      ],
      "metadata": {
        "id": "NTe5vCmhu7cY"
      },
      "execution_count": null,
      "outputs": []
    },
    {
      "cell_type": "code",
      "source": [
        "from sklearn.preprocessing import StandardScaler"
      ],
      "metadata": {
        "id": "EznAUvCivkFB"
      },
      "execution_count": null,
      "outputs": []
    },
    {
      "cell_type": "code",
      "source": [
        "sc = StandardScaler()"
      ],
      "metadata": {
        "id": "wruJh5gDvrTq"
      },
      "execution_count": null,
      "outputs": []
    },
    {
      "cell_type": "code",
      "source": [
        "scaled_X_train = sc.fit_transform(X_train)"
      ],
      "metadata": {
        "id": "MQoLFQFhvt7I"
      },
      "execution_count": null,
      "outputs": []
    },
    {
      "cell_type": "code",
      "source": [
        "scaled_X_test = sc.transform(X_test)"
      ],
      "metadata": {
        "id": "x3gO3dE9v1LG"
      },
      "execution_count": null,
      "outputs": []
    },
    {
      "cell_type": "code",
      "source": [
        "scaled_X_train"
      ],
      "metadata": {
        "colab": {
          "base_uri": "https://localhost:8080/"
        },
        "id": "aJOBMMm2v-PO",
        "outputId": "e986ed34-5dfb-41e1-851e-dbdbd284e9bd"
      },
      "execution_count": null,
      "outputs": [
        {
          "output_type": "execute_result",
          "data": {
            "text/plain": [
              "array([[-2.06287370e-01, -8.25109814e-02, -4.27679410e-01, ...,\n",
              "         5.91430026e-01, -3.12912608e-02, -3.64654506e-02],\n",
              "       [-1.96839055e-01, -8.25109814e-02, -4.27679633e-01, ...,\n",
              "        -2.30987477e-01, -3.12912608e-02, -3.64654506e-02],\n",
              "       [-3.77225263e-01, -8.25109814e-02, -4.27679781e-01, ...,\n",
              "        -2.30987477e-01, -3.12912608e-02, -3.64654506e-02],\n",
              "       ...,\n",
              "       [ 4.73062318e+00, -8.25109814e-02, -4.27679633e-01, ...,\n",
              "        -1.35246067e-01, -3.12912608e-02, -3.64654506e-02],\n",
              "       [-3.39119043e-03, -8.25109814e-02,  2.33820048e+00, ...,\n",
              "        -2.30987477e-01, -3.12912608e-02, -3.64654506e-02],\n",
              "       [ 6.11221698e-01, -8.25109814e-02, -4.27679184e-01, ...,\n",
              "         3.10030367e-01, -3.12912608e-02, -3.64654506e-02]])"
            ]
          },
          "metadata": {},
          "execution_count": 36
        }
      ]
    },
    {
      "cell_type": "code",
      "source": [
        "scaled_X_test"
      ],
      "metadata": {
        "colab": {
          "base_uri": "https://localhost:8080/"
        },
        "id": "oeY19z12wKlk",
        "outputId": "44f09ae7-0871-495a-877d-e537e6f4dbb8"
      },
      "execution_count": null,
      "outputs": [
        {
          "output_type": "execute_result",
          "data": {
            "text/plain": [
              "array([[-0.14157918, -0.08251098, -0.42767902, ..., -0.19804224,\n",
              "        -0.03129126, -0.03646545],\n",
              "       [-0.1520234 , -0.08251098, -0.42767948, ..., -0.21102618,\n",
              "        -0.03129126, -0.03646545],\n",
              "       [-0.14710772, -0.08251098, -0.42767971, ...,  0.4544919 ,\n",
              "        -0.03129126, -0.03646545],\n",
              "       ...,\n",
              "       [-0.02648849, -0.08251098, -0.42767819, ...,  0.24019617,\n",
              "        -0.03129126, -0.03646545],\n",
              "       [-0.01391202, -0.08251098, -0.42767953, ..., -0.03950466,\n",
              "        -0.03129126, -0.03646545],\n",
              "       [-0.39338954, -0.08251098, -0.42767981, ..., -0.23098748,\n",
              "        -0.03129126, -0.03646545]])"
            ]
          },
          "metadata": {},
          "execution_count": 37
        }
      ]
    },
    {
      "cell_type": "code",
      "source": [
        "## build a tensorflow model"
      ],
      "metadata": {
        "id": "-GlVCzmzwOCv"
      },
      "execution_count": null,
      "outputs": []
    },
    {
      "cell_type": "code",
      "source": [
        "import tensorflow.keras"
      ],
      "metadata": {
        "id": "pJ2ybHukwQwq"
      },
      "execution_count": null,
      "outputs": []
    },
    {
      "cell_type": "code",
      "source": [
        " from tensorflow.keras.models import Sequential"
      ],
      "metadata": {
        "id": "iBOkNim0yhvR"
      },
      "execution_count": null,
      "outputs": []
    },
    {
      "cell_type": "code",
      "source": [
        "from tensorflow.keras.layers import Dense"
      ],
      "metadata": {
        "id": "FmOlEwxyyxkL"
      },
      "execution_count": null,
      "outputs": []
    },
    {
      "cell_type": "code",
      "source": [
        "from tensorflow.keras.layers import Dropout"
      ],
      "metadata": {
        "id": "OZDrs1DPy6Qm"
      },
      "execution_count": null,
      "outputs": []
    },
    {
      "cell_type": "code",
      "source": [
        " ## building model"
      ],
      "metadata": {
        "id": "qdtsKZOUy9mR"
      },
      "execution_count": null,
      "outputs": []
    },
    {
      "cell_type": "code",
      "source": [
        "classifier = Sequential()\n",
        "classifier.add(Dense(units =10,kernel_initializer = 'he_uniform', activation = 'relu', input_dim = 170 ))\n",
        "\n",
        "classifier.add(Dense(units =10,kernel_initializer = 'he_uniform', activation = 'relu'))\n",
        "\n",
        "# classifier.add(Dense(units =1,kernel_initializer = 'glorat_uniform',  activation = 'sigmoid' ))"
      ],
      "metadata": {
        "id": "ouAcL9BCzv8H"
      },
      "execution_count": null,
      "outputs": []
    },
    {
      "cell_type": "code",
      "source": [
        "classifier.add(Dense(units =1,kernel_initializer = 'glorot_uniform',  activation = 'sigmoid' ))"
      ],
      "metadata": {
        "id": "OqV3NuHsuMBz"
      },
      "execution_count": null,
      "outputs": []
    },
    {
      "cell_type": "code",
      "source": [
        "classifier.compile(optimizer = 'adam', loss = 'binary_crossentropy', metrics = ['accuracy'])"
      ],
      "metadata": {
        "id": "qyYYURX4zzmi"
      },
      "execution_count": null,
      "outputs": []
    },
    {
      "cell_type": "code",
      "source": [
        "classifier.summary()"
      ],
      "metadata": {
        "colab": {
          "base_uri": "https://localhost:8080/"
        },
        "id": "qsK6Xvja6qou",
        "outputId": "231d2923-44e7-4d45-81a8-f146feba7514"
      },
      "execution_count": null,
      "outputs": [
        {
          "output_type": "stream",
          "name": "stdout",
          "text": [
            "Model: \"sequential\"\n",
            "_________________________________________________________________\n",
            " Layer (type)                Output Shape              Param #   \n",
            "=================================================================\n",
            " dense (Dense)               (None, 10)                1710      \n",
            "                                                                 \n",
            " dense_1 (Dense)             (None, 10)                110       \n",
            "                                                                 \n",
            " dense_2 (Dense)             (None, 1)                 11        \n",
            "                                                                 \n",
            "=================================================================\n",
            "Total params: 1,831\n",
            "Trainable params: 1,831\n",
            "Non-trainable params: 0\n",
            "_________________________________________________________________\n"
          ]
        }
      ]
    },
    {
      "cell_type": "code",
      "source": [
        "model_history = classifier.fit(scaled_X_train,y_train, batch_size = 100, epochs = 30, validation_split = 0.25)"
      ],
      "metadata": {
        "colab": {
          "base_uri": "https://localhost:8080/"
        },
        "id": "An72eKZH1LxU",
        "outputId": "b7b9ae15-03e0-41db-a84c-a81c796af0f8"
      },
      "execution_count": null,
      "outputs": [
        {
          "output_type": "stream",
          "name": "stdout",
          "text": [
            "Epoch 1/30\n",
            "26/26 [==============================] - 5s 27ms/step - loss: 0.3836 - accuracy: 0.9566 - val_loss: 0.2698 - val_accuracy: 0.9714\n",
            "Epoch 2/30\n",
            "26/26 [==============================] - 0s 12ms/step - loss: 0.2131 - accuracy: 0.9809 - val_loss: 0.1717 - val_accuracy: 0.9785\n",
            "Epoch 3/30\n",
            "26/26 [==============================] - 0s 8ms/step - loss: 0.1399 - accuracy: 0.9833 - val_loss: 0.1215 - val_accuracy: 0.9809\n",
            "Epoch 4/30\n",
            "26/26 [==============================] - 0s 8ms/step - loss: 0.1006 - accuracy: 0.9853 - val_loss: 0.0931 - val_accuracy: 0.9821\n",
            "Epoch 5/30\n",
            "26/26 [==============================] - 0s 9ms/step - loss: 0.0783 - accuracy: 0.9873 - val_loss: 0.0788 - val_accuracy: 0.9833\n",
            "Epoch 6/30\n",
            "26/26 [==============================] - 0s 7ms/step - loss: 0.0652 - accuracy: 0.9881 - val_loss: 0.0691 - val_accuracy: 0.9845\n",
            "Epoch 7/30\n",
            "26/26 [==============================] - 0s 9ms/step - loss: 0.0559 - accuracy: 0.9877 - val_loss: 0.0621 - val_accuracy: 0.9833\n",
            "Epoch 8/30\n",
            "26/26 [==============================] - 0s 9ms/step - loss: 0.0498 - accuracy: 0.9893 - val_loss: 0.0562 - val_accuracy: 0.9845\n",
            "Epoch 9/30\n",
            "26/26 [==============================] - 0s 11ms/step - loss: 0.0445 - accuracy: 0.9893 - val_loss: 0.0537 - val_accuracy: 0.9833\n",
            "Epoch 10/30\n",
            "26/26 [==============================] - 0s 9ms/step - loss: 0.0406 - accuracy: 0.9904 - val_loss: 0.0514 - val_accuracy: 0.9833\n",
            "Epoch 11/30\n",
            "26/26 [==============================] - 0s 8ms/step - loss: 0.0379 - accuracy: 0.9908 - val_loss: 0.0495 - val_accuracy: 0.9821\n",
            "Epoch 12/30\n",
            "26/26 [==============================] - 0s 8ms/step - loss: 0.0351 - accuracy: 0.9916 - val_loss: 0.0490 - val_accuracy: 0.9809\n",
            "Epoch 13/30\n",
            "26/26 [==============================] - 0s 8ms/step - loss: 0.0322 - accuracy: 0.9904 - val_loss: 0.0493 - val_accuracy: 0.9833\n",
            "Epoch 14/30\n",
            "26/26 [==============================] - 0s 8ms/step - loss: 0.0296 - accuracy: 0.9916 - val_loss: 0.0463 - val_accuracy: 0.9833\n",
            "Epoch 15/30\n",
            "26/26 [==============================] - 0s 6ms/step - loss: 0.0282 - accuracy: 0.9932 - val_loss: 0.0481 - val_accuracy: 0.9845\n",
            "Epoch 16/30\n",
            "26/26 [==============================] - 0s 8ms/step - loss: 0.0253 - accuracy: 0.9924 - val_loss: 0.0461 - val_accuracy: 0.9845\n",
            "Epoch 17/30\n",
            "26/26 [==============================] - 0s 7ms/step - loss: 0.0230 - accuracy: 0.9952 - val_loss: 0.0473 - val_accuracy: 0.9857\n",
            "Epoch 18/30\n",
            "26/26 [==============================] - 0s 8ms/step - loss: 0.0213 - accuracy: 0.9956 - val_loss: 0.0467 - val_accuracy: 0.9857\n",
            "Epoch 19/30\n",
            "26/26 [==============================] - 0s 6ms/step - loss: 0.0212 - accuracy: 0.9952 - val_loss: 0.0461 - val_accuracy: 0.9857\n",
            "Epoch 20/30\n",
            "26/26 [==============================] - 0s 9ms/step - loss: 0.0201 - accuracy: 0.9952 - val_loss: 0.0470 - val_accuracy: 0.9869\n",
            "Epoch 21/30\n",
            "26/26 [==============================] - 0s 8ms/step - loss: 0.0182 - accuracy: 0.9960 - val_loss: 0.0479 - val_accuracy: 0.9869\n",
            "Epoch 22/30\n",
            "26/26 [==============================] - 0s 8ms/step - loss: 0.0167 - accuracy: 0.9956 - val_loss: 0.0506 - val_accuracy: 0.9869\n",
            "Epoch 23/30\n",
            "26/26 [==============================] - 0s 8ms/step - loss: 0.0157 - accuracy: 0.9956 - val_loss: 0.0518 - val_accuracy: 0.9857\n",
            "Epoch 24/30\n",
            "26/26 [==============================] - 0s 10ms/step - loss: 0.0149 - accuracy: 0.9968 - val_loss: 0.0509 - val_accuracy: 0.9869\n",
            "Epoch 25/30\n",
            "26/26 [==============================] - 0s 8ms/step - loss: 0.0141 - accuracy: 0.9972 - val_loss: 0.0535 - val_accuracy: 0.9857\n",
            "Epoch 26/30\n",
            "26/26 [==============================] - 0s 9ms/step - loss: 0.0134 - accuracy: 0.9972 - val_loss: 0.0496 - val_accuracy: 0.9893\n",
            "Epoch 27/30\n",
            "26/26 [==============================] - 0s 7ms/step - loss: 0.0128 - accuracy: 0.9976 - val_loss: 0.0555 - val_accuracy: 0.9881\n",
            "Epoch 28/30\n",
            "26/26 [==============================] - 0s 9ms/step - loss: 0.0122 - accuracy: 0.9972 - val_loss: 0.0543 - val_accuracy: 0.9881\n",
            "Epoch 29/30\n",
            "26/26 [==============================] - 0s 11ms/step - loss: 0.0117 - accuracy: 0.9976 - val_loss: 0.0544 - val_accuracy: 0.9893\n",
            "Epoch 30/30\n",
            "26/26 [==============================] - 0s 9ms/step - loss: 0.0113 - accuracy: 0.9976 - val_loss: 0.0560 - val_accuracy: 0.9881\n"
          ]
        }
      ]
    },
    {
      "cell_type": "code",
      "source": [
        "model_history.history.keys()"
      ],
      "metadata": {
        "colab": {
          "base_uri": "https://localhost:8080/"
        },
        "id": "J_deOb779nUC",
        "outputId": "a48f95ed-2b37-41df-dbe1-67bf0be06336"
      },
      "execution_count": null,
      "outputs": [
        {
          "output_type": "execute_result",
          "data": {
            "text/plain": [
              "dict_keys(['loss', 'accuracy', 'val_loss', 'val_accuracy'])"
            ]
          },
          "metadata": {},
          "execution_count": 49
        }
      ]
    },
    {
      "cell_type": "code",
      "source": [
        "model_history.history['accuracy']"
      ],
      "metadata": {
        "colab": {
          "base_uri": "https://localhost:8080/"
        },
        "id": "ravHJ_zUB_zM",
        "outputId": "bc51bcaa-ea5c-4fab-ff02-d293d6a2d466"
      },
      "execution_count": null,
      "outputs": [
        {
          "output_type": "execute_result",
          "data": {
            "text/plain": [
              "[0.9566082954406738,\n",
              " 0.9808917045593262,\n",
              " 0.9832802414894104,\n",
              " 0.9852706789970398,\n",
              " 0.987261176109314,\n",
              " 0.9880573153495789,\n",
              " 0.987659215927124,\n",
              " 0.9892516136169434,\n",
              " 0.9892516136169434,\n",
              " 0.9904458522796631,\n",
              " 0.9908439517021179,\n",
              " 0.9916401505470276,\n",
              " 0.9904458522796631,\n",
              " 0.9916401505470276,\n",
              " 0.9932324886322021,\n",
              " 0.9924362897872925,\n",
              " 0.9952229261398315,\n",
              " 0.9956210255622864,\n",
              " 0.9952229261398315,\n",
              " 0.9952229261398315,\n",
              " 0.9960191249847412,\n",
              " 0.9956210255622864,\n",
              " 0.9956210255622864,\n",
              " 0.9968152642250061,\n",
              " 0.9972133636474609,\n",
              " 0.9972133636474609,\n",
              " 0.9976114630699158,\n",
              " 0.9972133636474609,\n",
              " 0.9976114630699158,\n",
              " 0.9976114630699158]"
            ]
          },
          "metadata": {},
          "execution_count": 50
        }
      ]
    },
    {
      "cell_type": "code",
      "source": [
        "y_pred = classifier.predict(scaled_X_test)"
      ],
      "metadata": {
        "colab": {
          "base_uri": "https://localhost:8080/"
        },
        "id": "yn2pF8mpDKDY",
        "outputId": "a85eb180-84fe-4565-d5e3-3be0044b67e2"
      },
      "execution_count": null,
      "outputs": [
        {
          "output_type": "stream",
          "name": "stdout",
          "text": [
            "52/52 [==============================] - 0s 3ms/step\n"
          ]
        }
      ]
    },
    {
      "cell_type": "code",
      "source": [
        "y_pred"
      ],
      "metadata": {
        "colab": {
          "base_uri": "https://localhost:8080/"
        },
        "id": "2dgDVlHMHoG-",
        "outputId": "a8b4656e-73f2-495f-adc2-3c08f6b66d83"
      },
      "execution_count": null,
      "outputs": [
        {
          "output_type": "execute_result",
          "data": {
            "text/plain": [
              "array([[0.00034214],\n",
              "       [0.00043738],\n",
              "       [0.00055317],\n",
              "       ...,\n",
              "       [0.00217266],\n",
              "       [0.00105412],\n",
              "       [0.00027735]], dtype=float32)"
            ]
          },
          "metadata": {},
          "execution_count": 52
        }
      ]
    },
    {
      "cell_type": "code",
      "source": [
        "y_pred = y_pred>0.05"
      ],
      "metadata": {
        "id": "97yD_7ZVHtxW"
      },
      "execution_count": null,
      "outputs": []
    },
    {
      "cell_type": "code",
      "source": [
        "y_pred"
      ],
      "metadata": {
        "colab": {
          "base_uri": "https://localhost:8080/"
        },
        "id": "mf22xr1XIXyH",
        "outputId": "b9bf230a-e92f-4d35-f116-1c52091278bf"
      },
      "execution_count": null,
      "outputs": [
        {
          "output_type": "execute_result",
          "data": {
            "text/plain": [
              "array([[False],\n",
              "       [False],\n",
              "       [False],\n",
              "       ...,\n",
              "       [False],\n",
              "       [False],\n",
              "       [False]])"
            ]
          },
          "metadata": {},
          "execution_count": 54
        }
      ]
    },
    {
      "cell_type": "code",
      "source": [
        "from sklearn.metrics import accuracy_score"
      ],
      "metadata": {
        "id": "8q-MY9ETDhPx"
      },
      "execution_count": null,
      "outputs": []
    },
    {
      "cell_type": "code",
      "source": [
        "import matplotlib.pyplot as plt"
      ],
      "metadata": {
        "id": "j0yRk2yEDyVh"
      },
      "execution_count": null,
      "outputs": []
    },
    {
      "cell_type": "code",
      "source": [
        "plt.plot(model_history.history['accuracy'])\n"
      ],
      "metadata": {
        "colab": {
          "base_uri": "https://localhost:8080/",
          "height": 283
        },
        "id": "qiSTyva8Ep28",
        "outputId": "5b8a6513-a379-41d5-9ce5-dada472e4814"
      },
      "execution_count": null,
      "outputs": [
        {
          "output_type": "execute_result",
          "data": {
            "text/plain": [
              "[<matplotlib.lines.Line2D at 0x7f017402e4c0>]"
            ]
          },
          "metadata": {},
          "execution_count": 57
        },
        {
          "output_type": "display_data",
          "data": {
            "text/plain": [
              "<Figure size 432x288 with 1 Axes>"
            ],
            "image/png": "[encoded data removed]"
          },
          "metadata": {
            "needs_background": "light"
          }
        }
      ]
    },
    {
      "cell_type": "code",
      "source": [
        "plt.plot(model_history.history['val_loss'])"
      ],
      "metadata": {
        "colab": {
          "base_uri": "https://localhost:8080/",
          "height": 283
        },
        "id": "Yv9f2hSNE1hI",
        "outputId": "2665a932-7b77-42e3-b6c8-553ac438d294"
      },
      "execution_count": null,
      "outputs": [
        {
          "output_type": "execute_result",
          "data": {
            "text/plain": [
              "[<matplotlib.lines.Line2D at 0x7f01740ac4f0>]"
            ]
          },
          "metadata": {},
          "execution_count": 58
        },
        {
          "output_type": "display_data",
          "data": {
            "text/plain": [
              "<Figure size 432x288 with 1 Axes>"
            ],
            "image/png": "[encoded data removed]"
          },
          "metadata": {
            "needs_background": "light"
          }
        }
      ]
    },
    {
      "cell_type": "code",
      "source": [
        "plt.plot(model_history.history['val_loss'])"
      ],
      "metadata": {
        "colab": {
          "base_uri": "https://localhost:8080/",
          "height": 283
        },
        "id": "TayEKwVRGbVv",
        "outputId": "827457df-ff75-4495-dc84-340707ba1176"
      },
      "execution_count": null,
      "outputs": [
        {
          "output_type": "execute_result",
          "data": {
            "text/plain": [
              "[<matplotlib.lines.Line2D at 0x7f015ab1c1c0>]"
            ]
          },
          "metadata": {},
          "execution_count": 59
        },
        {
          "output_type": "display_data",
          "data": {
            "text/plain": [
              "<Figure size 432x288 with 1 Axes>"
            ],
            "image/png": "[encoded data removed]"
          },
          "metadata": {
            "needs_background": "light"
          }
        }
      ]
    },
    {
      "cell_type": "code",
      "source": [
        "accuracy_score(y_pred, y_test)"
      ],
      "metadata": {
        "colab": {
          "base_uri": "https://localhost:8080/"
        },
        "id": "NsdCV_fVHfF0",
        "outputId": "13fb5d97-91f6-460e-9271-570656121910"
      },
      "execution_count": null,
      "outputs": [
        {
          "output_type": "execute_result",
          "data": {
            "text/plain": [
              "0.9672727272727273"
            ]
          },
          "metadata": {},
          "execution_count": 60
        }
      ]
    },
    {
      "cell_type": "code",
      "source": [
        "y_test1 = y_test>0.05"
      ],
      "metadata": {
        "id": "OqbDZQCkIavE"
      },
      "execution_count": null,
      "outputs": []
    },
    {
      "cell_type": "code",
      "source": [
        "y_pred"
      ],
      "metadata": {
        "colab": {
          "base_uri": "https://localhost:8080/"
        },
        "id": "giX1GKr2Ijsk",
        "outputId": "c041b598-3a4a-45d8-828f-317445d1a28e"
      },
      "execution_count": null,
      "outputs": [
        {
          "output_type": "execute_result",
          "data": {
            "text/plain": [
              "array([[False],\n",
              "       [False],\n",
              "       [False],\n",
              "       ...,\n",
              "       [False],\n",
              "       [False],\n",
              "       [False]])"
            ]
          },
          "metadata": {},
          "execution_count": 62
        }
      ]
    },
    {
      "cell_type": "code",
      "source": [
        "accuracy_score(y_pred, y_test1)"
      ],
      "metadata": {
        "colab": {
          "base_uri": "https://localhost:8080/"
        },
        "id": "qAE2AiJgIl86",
        "outputId": "49b603b8-9ad5-4af7-b194-f4c5d99d8ca0"
      },
      "execution_count": null,
      "outputs": [
        {
          "output_type": "execute_result",
          "data": {
            "text/plain": [
              "0.9672727272727273"
            ]
          },
          "metadata": {},
          "execution_count": 63
        }
      ]
    },
    {
      "cell_type": "code",
      "source": [
        "from sklearn.metrics import confusion_matrix"
      ],
      "metadata": {
        "id": "7FWtMG-uI8LK"
      },
      "execution_count": null,
      "outputs": []
    },
    {
      "cell_type": "code",
      "source": [
        "confusion_matrix(y_pred = y_pred, y_true = y_test)"
      ],
      "metadata": {
        "colab": {
          "base_uri": "https://localhost:8080/"
        },
        "id": "HmP6J80bKCm8",
        "outputId": "6a7b25d8-5ac1-48d0-cd84-7a4b95bcb3bf"
      },
      "execution_count": null,
      "outputs": [
        {
          "output_type": "execute_result",
          "data": {
            "text/plain": [
              "array([[1577,   43],\n",
              "       [  11,   19]])"
            ]
          },
          "metadata": {},
          "execution_count": 65
        }
      ]
    },
    {
      "cell_type": "code",
      "source": [
        "## hyper parameter tuner using keras tuner"
      ],
      "metadata": {
        "id": "ykV7J6xZKRX5"
      },
      "execution_count": null,
      "outputs": []
    },
    {
      "cell_type": "code",
      "source": [
        "pip install keras-tuner --upgrade\n"
      ],
      "metadata": {
        "colab": {
          "base_uri": "https://localhost:8080/"
        },
        "id": "8_-WwV9MM_NY",
        "outputId": "f38061bd-cb47-4588-b3e6-5db6b94fb257"
      },
      "execution_count": null,
      "outputs": [
        {
          "output_type": "stream",
          "name": "stdout",
          "text": [
            "Looking in indexes: https://pypi.org/simple, https://us-python.pkg.dev/colab-wheels/public/simple/\n",
            "Collecting keras-tuner\n",
            "  Downloading keras_tuner-1.2.0-py3-none-any.whl (168 kB)\n",
            "\u001b[2K     \u001b[90m━━━━━━━━━━━━━━━━━━━━━━━━━━━━━━━━━━━━━━━\u001b[0m \u001b[32m168.1/168.1 KB\u001b[0m \u001b[31m5.6 MB/s\u001b[0m eta \u001b[36m0:00:00\u001b[0m\n",
            "\u001b[?25hCollecting kt-legacy\n",
            "  Downloading kt_legacy-1.0.4-py3-none-any.whl (9.6 kB)\n",
            "Requirement already satisfied: requests in /usr/local/lib/python3.8/dist-packages (from keras-tuner) (2.25.1)\n",
            "Requirement already satisfied: ipython in /usr/local/lib/python3.8/dist-packages (from keras-tuner) (7.9.0)\n",
            "Requirement already satisfied: tensorflow>=2.0 in /usr/local/lib/python3.8/dist-packages (from keras-tuner) (2.9.2)\n",
            "Requirement already satisfied: packaging in /usr/local/lib/python3.8/dist-packages (from keras-tuner) (21.3)\n",
            "Requirement already satisfied: tensorflow-io-gcs-filesystem>=0.23.1 in /usr/local/lib/python3.8/dist-packages (from tensorflow>=2.0->keras-tuner) (0.29.0)\n",
            "Requirement already satisfied: wrapt>=1.11.0 in /usr/local/lib/python3.8/dist-packages (from tensorflow>=2.0->keras-tuner) (1.14.1)\n",
            "Requirement already satisfied: six>=1.12.0 in /usr/local/lib/python3.8/dist-packages (from tensorflow>=2.0->keras-tuner) (1.15.0)\n",
            "Requirement already satisfied: tensorflow-estimator<2.10.0,>=2.9.0rc0 in /usr/local/lib/python3.8/dist-packages (from tensorflow>=2.0->keras-tuner) (2.9.0)\n",
            "Requirement already satisfied: tensorboard<2.10,>=2.9 in /usr/local/lib/python3.8/dist-packages (from tensorflow>=2.0->keras-tuner) (2.9.1)\n",
            "Requirement already satisfied: typing-extensions>=3.6.6 in /usr/local/lib/python3.8/dist-packages (from tensorflow>=2.0->keras-tuner) (4.4.0)\n",
            "Requirement already satisfied: absl-py>=1.0.0 in /usr/local/lib/python3.8/dist-packages (from tensorflow>=2.0->keras-tuner) (1.3.0)\n",
            "Requirement already satisfied: keras-preprocessing>=1.1.1 in /usr/local/lib/python3.8/dist-packages (from tensorflow>=2.0->keras-tuner) (1.1.2)\n",
            "Requirement already satisfied: astunparse>=1.6.0 in /usr/local/lib/python3.8/dist-packages (from tensorflow>=2.0->keras-tuner) (1.6.3)\n",
            "Requirement already satisfied: grpcio<2.0,>=1.24.3 in /usr/local/lib/python3.8/dist-packages (from tensorflow>=2.0->keras-tuner) (1.51.1)\n",
            "Requirement already satisfied: google-pasta>=0.1.1 in /usr/local/lib/python3.8/dist-packages (from tensorflow>=2.0->keras-tuner) (0.2.0)\n",
            "Requirement already satisfied: termcolor>=1.1.0 in /usr/local/lib/python3.8/dist-packages (from tensorflow>=2.0->keras-tuner) (2.2.0)\n",
            "Requirement already satisfied: protobuf<3.20,>=3.9.2 in /usr/local/lib/python3.8/dist-packages (from tensorflow>=2.0->keras-tuner) (3.19.6)\n",
            "Requirement already satisfied: opt-einsum>=2.3.2 in /usr/local/lib/python3.8/dist-packages (from tensorflow>=2.0->keras-tuner) (3.3.0)\n",
            "Requirement already satisfied: flatbuffers<2,>=1.12 in /usr/local/lib/python3.8/dist-packages (from tensorflow>=2.0->keras-tuner) (1.12)\n",
            "Requirement already satisfied: gast<=0.4.0,>=0.2.1 in /usr/local/lib/python3.8/dist-packages (from tensorflow>=2.0->keras-tuner) (0.4.0)\n",
            "Requirement already satisfied: numpy>=1.20 in /usr/local/lib/python3.8/dist-packages (from tensorflow>=2.0->keras-tuner) (1.21.6)\n",
            "Requirement already satisfied: h5py>=2.9.0 in /usr/local/lib/python3.8/dist-packages (from tensorflow>=2.0->keras-tuner) (3.1.0)\n",
            "Requirement already satisfied: setuptools in /usr/local/lib/python3.8/dist-packages (from tensorflow>=2.0->keras-tuner) (57.4.0)\n",
            "Requirement already satisfied: keras<2.10.0,>=2.9.0rc0 in /usr/local/lib/python3.8/dist-packages (from tensorflow>=2.0->keras-tuner) (2.9.0)\n",
            "Requirement already satisfied: libclang>=13.0.0 in /usr/local/lib/python3.8/dist-packages (from tensorflow>=2.0->keras-tuner) (15.0.6.1)\n",
            "Requirement already satisfied: prompt-toolkit<2.1.0,>=2.0.0 in /usr/local/lib/python3.8/dist-packages (from ipython->keras-tuner) (2.0.10)\n",
            "Requirement already satisfied: backcall in /usr/local/lib/python3.8/dist-packages (from ipython->keras-tuner) (0.2.0)\n",
            "Requirement already satisfied: pexpect in /usr/local/lib/python3.8/dist-packages (from ipython->keras-tuner) (4.8.0)\n",
            "Requirement already satisfied: pickleshare in /usr/local/lib/python3.8/dist-packages (from ipython->keras-tuner) (0.7.5)\n",
            "Requirement already satisfied: pygments in /usr/local/lib/python3.8/dist-packages (from ipython->keras-tuner) (2.6.1)\n",
            "Requirement already satisfied: traitlets>=4.2 in /usr/local/lib/python3.8/dist-packages (from ipython->keras-tuner) (5.7.1)\n",
            "Requirement already satisfied: decorator in /usr/local/lib/python3.8/dist-packages (from ipython->keras-tuner) (4.4.2)\n",
            "Collecting jedi>=0.10\n",
            "  Downloading jedi-0.18.2-py2.py3-none-any.whl (1.6 MB)\n",
            "\u001b[2K     \u001b[90m━━━━━━━━━━━━━━━━━━━━━━━━━━━━━━━━━━━━━━━━\u001b[0m \u001b[32m1.6/1.6 MB\u001b[0m \u001b[31m25.6 MB/s\u001b[0m eta \u001b[36m0:00:00\u001b[0m\n",
            "\u001b[?25hRequirement already satisfied: pyparsing!=3.0.5,>=2.0.2 in /usr/local/lib/python3.8/dist-packages (from packaging->keras-tuner) (3.0.9)\n",
            "Requirement already satisfied: idna<3,>=2.5 in /usr/local/lib/python3.8/dist-packages (from requests->keras-tuner) (2.10)\n",
            "Requirement already satisfied: certifi>=2017.4.17 in /usr/local/lib/python3.8/dist-packages (from requests->keras-tuner) (2022.12.7)\n",
            "Requirement already satisfied: chardet<5,>=3.0.2 in /usr/local/lib/python3.8/dist-packages (from requests->keras-tuner) (4.0.0)\n",
            "Requirement already satisfied: urllib3<1.27,>=1.21.1 in /usr/local/lib/python3.8/dist-packages (from requests->keras-tuner) (1.24.3)\n",
            "Requirement already satisfied: wheel<1.0,>=0.23.0 in /usr/local/lib/python3.8/dist-packages (from astunparse>=1.6.0->tensorflow>=2.0->keras-tuner) (0.38.4)\n",
            "Requirement already satisfied: parso<0.9.0,>=0.8.0 in /usr/local/lib/python3.8/dist-packages (from jedi>=0.10->ipython->keras-tuner) (0.8.3)\n",
            "Requirement already satisfied: wcwidth in /usr/local/lib/python3.8/dist-packages (from prompt-toolkit<2.1.0,>=2.0.0->ipython->keras-tuner) (0.2.5)\n",
            "Requirement already satisfied: tensorboard-data-server<0.7.0,>=0.6.0 in /usr/local/lib/python3.8/dist-packages (from tensorboard<2.10,>=2.9->tensorflow>=2.0->keras-tuner) (0.6.1)\n",
            "Requirement already satisfied: google-auth-oauthlib<0.5,>=0.4.1 in /usr/local/lib/python3.8/dist-packages (from tensorboard<2.10,>=2.9->tensorflow>=2.0->keras-tuner) (0.4.6)\n",
            "Requirement already satisfied: werkzeug>=1.0.1 in /usr/local/lib/python3.8/dist-packages (from tensorboard<2.10,>=2.9->tensorflow>=2.0->keras-tuner) (1.0.1)\n",
            "Requirement already satisfied: markdown>=2.6.8 in /usr/local/lib/python3.8/dist-packages (from tensorboard<2.10,>=2.9->tensorflow>=2.0->keras-tuner) (3.4.1)\n",
            "Requirement already satisfied: google-auth<3,>=1.6.3 in /usr/local/lib/python3.8/dist-packages (from tensorboard<2.10,>=2.9->tensorflow>=2.0->keras-tuner) (2.16.0)\n",
            "Requirement already satisfied: tensorboard-plugin-wit>=1.6.0 in /usr/local/lib/python3.8/dist-packages (from tensorboard<2.10,>=2.9->tensorflow>=2.0->keras-tuner) (1.8.1)\n",
            "Requirement already satisfied: ptyprocess>=0.5 in /usr/local/lib/python3.8/dist-packages (from pexpect->ipython->keras-tuner) (0.7.0)\n",
            "Requirement already satisfied: rsa<5,>=3.1.4 in /usr/local/lib/python3.8/dist-packages (from google-auth<3,>=1.6.3->tensorboard<2.10,>=2.9->tensorflow>=2.0->keras-tuner) (4.9)\n",
            "Requirement already satisfied: pyasn1-modules>=0.2.1 in /usr/local/lib/python3.8/dist-packages (from google-auth<3,>=1.6.3->tensorboard<2.10,>=2.9->tensorflow>=2.0->keras-tuner) (0.2.8)\n",
            "Requirement already satisfied: cachetools<6.0,>=2.0.0 in /usr/local/lib/python3.8/dist-packages (from google-auth<3,>=1.6.3->tensorboard<2.10,>=2.9->tensorflow>=2.0->keras-tuner) (5.2.1)\n",
            "Requirement already satisfied: requests-oauthlib>=0.7.0 in /usr/local/lib/python3.8/dist-packages (from google-auth-oauthlib<0.5,>=0.4.1->tensorboard<2.10,>=2.9->tensorflow>=2.0->keras-tuner) (1.3.1)\n",
            "Requirement already satisfied: importlib-metadata>=4.4 in /usr/local/lib/python3.8/dist-packages (from markdown>=2.6.8->tensorboard<2.10,>=2.9->tensorflow>=2.0->keras-tuner) (6.0.0)\n",
            "Requirement already satisfied: zipp>=0.5 in /usr/local/lib/python3.8/dist-packages (from importlib-metadata>=4.4->markdown>=2.6.8->tensorboard<2.10,>=2.9->tensorflow>=2.0->keras-tuner) (3.11.0)\n",
            "Requirement already satisfied: pyasn1<0.5.0,>=0.4.6 in /usr/local/lib/python3.8/dist-packages (from pyasn1-modules>=0.2.1->google-auth<3,>=1.6.3->tensorboard<2.10,>=2.9->tensorflow>=2.0->keras-tuner) (0.4.8)\n",
            "Requirement already satisfied: oauthlib>=3.0.0 in /usr/local/lib/python3.8/dist-packages (from requests-oauthlib>=0.7.0->google-auth-oauthlib<0.5,>=0.4.1->tensorboard<2.10,>=2.9->tensorflow>=2.0->keras-tuner) (3.2.2)\n",
            "Installing collected packages: kt-legacy, jedi, keras-tuner\n",
            "Successfully installed jedi-0.18.2 keras-tuner-1.2.0 kt-legacy-1.0.4\n"
          ]
        }
      ]
    },
    {
      "cell_type": "code",
      "source": [
        "from kerastuner.tuners import RandomSearch"
      ],
      "metadata": {
        "id": "sw9j9tTCNLGq",
        "colab": {
          "base_uri": "https://localhost:8080/"
        },
        "outputId": "e79d4c60-4b95-4de5-de94-177f0a68763a"
      },
      "execution_count": null,
      "outputs": [
        {
          "output_type": "stream",
          "name": "stderr",
          "text": [
            "<ipython-input-68-94471a811b41>:1: DeprecationWarning: `import kerastuner` is deprecated, please use `import keras_tuner`.\n",
            "  from kerastuner.tuners import RandomSearch\n"
          ]
        }
      ]
    },
    {
      "cell_type": "code",
      "source": [
        "def build_model(hp):\n",
        "  model = Sequential()\n",
        "  model.add(Dense(units =10,kernel_initializer = 'he_uniform', activation = 'relu', input_dim = 170 ))\n",
        "  model.add(Dense(units =10,kernel_initializer = 'he_uniform', activation = 'relu'))\n",
        "  model.add(Dense(units =1,kernel_initializer = 'glorot_uniform',  activation = 'sigmoid' )) \n",
        "\n",
        "  optimizer = hp.Choice(\"optimizer\", values = [\"adam\", \"sgd\",\"rmsprop\",'adadelta'])\n",
        "\n",
        "  model.compile(optimizer = optimizer, loss = 'binary_crossentropy', metrics = ['accuracy'])\n",
        "\n",
        "  return model\n",
        "  "
      ],
      "metadata": {
        "id": "JfAM8YUvORDM"
      },
      "execution_count": null,
      "outputs": []
    },
    {
      "cell_type": "code",
      "source": [
        "random_search = RandomSearch(build_model, objective = 'val_accuracy', max_trials=5)"
      ],
      "metadata": {
        "id": "3jh3pj6TPUMt"
      },
      "execution_count": null,
      "outputs": []
    },
    {
      "cell_type": "code",
      "source": [
        "random_search"
      ],
      "metadata": {
        "colab": {
          "base_uri": "https://localhost:8080/"
        },
        "id": "watuKmNhRVG2",
        "outputId": "51c47f02-99ad-4a5d-a2a5-b381398a1b42"
      },
      "execution_count": null,
      "outputs": [
        {
          "output_type": "execute_result",
          "data": {
            "text/plain": [
              "<keras_tuner.tuners.randomsearch.RandomSearch at 0x7f015b692e20>"
            ]
          },
          "metadata": {},
          "execution_count": 71
        }
      ]
    },
    {
      "cell_type": "code",
      "source": [
        "random_search = RandomSearch(build_model, objective = 'val_accuracy', max_trials=5)"
      ],
      "metadata": {
        "id": "jUM5iUfLR0qo"
      },
      "execution_count": null,
      "outputs": []
    },
    {
      "cell_type": "code",
      "source": [
        "random_search.search(scaled_X_train,y_train, validation_data = (scaled_X_test,y_test ))"
      ],
      "metadata": {
        "colab": {
          "base_uri": "https://localhost:8080/"
        },
        "id": "cguzpPzhR8_y",
        "outputId": "9b13cb8c-ca85-4bec-ca7c-d3e7abfb1ade"
      },
      "execution_count": null,
      "outputs": [
        {
          "output_type": "stream",
          "name": "stdout",
          "text": [
            "Trial 4 Complete [00h 00m 02s]\n",
            "val_accuracy: 0.9806060791015625\n",
            "\n",
            "Best val_accuracy So Far: 0.9818181991577148\n",
            "Total elapsed time: 00h 00m 06s\n"
          ]
        }
      ]
    },
    {
      "cell_type": "code",
      "source": [
        "random_search.get_best_hyperparameters()[0].values"
      ],
      "metadata": {
        "colab": {
          "base_uri": "https://localhost:8080/"
        },
        "id": "MKR7UY-xSfbk",
        "outputId": "af4878ed-995e-49d9-bc25-ad07b5e5dd35"
      },
      "execution_count": null,
      "outputs": [
        {
          "output_type": "execute_result",
          "data": {
            "text/plain": [
              "{'optimizer': 'sgd'}"
            ]
          },
          "metadata": {},
          "execution_count": 74
        }
      ]
    },
    {
      "cell_type": "code",
      "source": [
        "my_model =random_search.get_best_models(num_models=1)[0]"
      ],
      "metadata": {
        "id": "lQrQYuvkUDW9"
      },
      "execution_count": null,
      "outputs": []
    },
    {
      "cell_type": "code",
      "source": [
        "my_model.summary()"
      ],
      "metadata": {
        "colab": {
          "base_uri": "https://localhost:8080/"
        },
        "id": "xsOFIY8YUTci",
        "outputId": "87c1d441-bc4c-466a-89d9-f9acb901e19b"
      },
      "execution_count": null,
      "outputs": [
        {
          "output_type": "stream",
          "name": "stdout",
          "text": [
            "Model: \"sequential\"\n",
            "_________________________________________________________________\n",
            " Layer (type)                Output Shape              Param #   \n",
            "=================================================================\n",
            " dense (Dense)               (None, 10)                1710      \n",
            "                                                                 \n",
            " dense_1 (Dense)             (None, 10)                110       \n",
            "                                                                 \n",
            " dense_2 (Dense)             (None, 1)                 11        \n",
            "                                                                 \n",
            "=================================================================\n",
            "Total params: 1,831\n",
            "Trainable params: 1,831\n",
            "Non-trainable params: 0\n",
            "_________________________________________________________________\n"
          ]
        }
      ]
    },
    {
      "cell_type": "code",
      "source": [
        "def build_model1(hp):\n",
        "  model = keras.Sequential()\n",
        "  model.add(keras.layers.Dense(\n",
        "      hp.Choice('units', [8, 16, 32]),\n",
        "      activation='relu'))\n",
        "  model.add(keras.layers.Dense(1, activation='relu'))\n",
        "  model.compile(loss='mse')\n",
        "  return model"
      ],
      "metadata": {
        "id": "AmFsxKqAUfYy"
      },
      "execution_count": null,
      "outputs": []
    },
    {
      "cell_type": "code",
      "source": [
        "random_search = RandomSearch(build_model1, objective = 'val_accuracy', max_trials=5)"
      ],
      "metadata": {
        "id": "4aBT428DNVuZ"
      },
      "execution_count": null,
      "outputs": []
    },
    {
      "cell_type": "code",
      "source": [
        "random_search.search(scaled_X_train,y_train, validation_data = (scaled_X_test,y_test ),directory = 'tuner')"
      ],
      "metadata": {
        "id": "7NBQZM_0QDNp"
      },
      "execution_count": null,
      "outputs": []
    },
    {
      "cell_type": "code",
      "source": [
        "random_search.get_best_hyperparameters()[0].values"
      ],
      "metadata": {
        "colab": {
          "base_uri": "https://localhost:8080/"
        },
        "id": "4hrDBz3YQG_P",
        "outputId": "d1112597-5cfa-4612-96ad-8229f8e8c2cc"
      },
      "execution_count": null,
      "outputs": [
        {
          "output_type": "execute_result",
          "data": {
            "text/plain": [
              "{'optimizer': 'sgd'}"
            ]
          },
          "metadata": {},
          "execution_count": 90
        }
      ]
    }
  ]
}